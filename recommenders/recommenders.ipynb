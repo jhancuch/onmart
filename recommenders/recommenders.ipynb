{
  "nbformat": 4,
  "nbformat_minor": 0,
  "metadata": {
    "colab": {
      "name": "recommenders.ipynb",
      "provenance": [],
      "collapsed_sections": [],
      "toc_visible": true,
      "authorship_tag": "ABX9TyPzLmgu07PQeqV+rVhygYFf",
      "include_colab_link": true
    },
    "kernelspec": {
      "name": "python3",
      "display_name": "Python 3"
    },
    "language_info": {
      "name": "python"
    },
    "accelerator": "GPU"
  },
  "cells": [
    {
      "cell_type": "markdown",
      "metadata": {
        "id": "view-in-github",
        "colab_type": "text"
      },
      "source": [
        "<a href=\"https://colab.research.google.com/github/jhancuch/onmart/blob/main/recommenders/recommenders.ipynb\" target=\"_parent\"><img src=\"https://colab.research.google.com/assets/colab-badge.svg\" alt=\"Open In Colab\"/></a>"
      ]
    },
    {
      "cell_type": "markdown",
      "source": [
        "The goal is to do some brief analysis of the dataset before running an expirement. For the expirement, I will choose a recommendation algorithm from both SurpRise and Tensorflow Recommenders packages. I will run the analysis once on CPU and then again on GPU to compare both the scores between the two different models along with the time differences between CPU and GPU."
      ],
      "metadata": {
        "id": "2T39xrkzjvHv"
      }
    },
    {
      "cell_type": "code",
      "source": [
        "!pip3 install surprise"
      ],
      "metadata": {
        "colab": {
          "base_uri": "https://localhost:8080/"
        },
        "id": "E1ANildClBsr",
        "outputId": "5b878c9b-b2de-4ae0-97d9-6a9669c9b4b5"
      },
      "execution_count": 1,
      "outputs": [
        {
          "output_type": "stream",
          "name": "stdout",
          "text": [
            "Looking in indexes: https://pypi.org/simple, https://us-python.pkg.dev/colab-wheels/public/simple/\n",
            "Collecting surprise\n",
            "  Downloading surprise-0.1-py2.py3-none-any.whl (1.8 kB)\n",
            "Collecting scikit-surprise\n",
            "  Downloading scikit-surprise-1.1.1.tar.gz (11.8 MB)\n",
            "\u001b[K     |████████████████████████████████| 11.8 MB 4.5 MB/s \n",
            "\u001b[?25hRequirement already satisfied: joblib>=0.11 in /usr/local/lib/python3.7/dist-packages (from scikit-surprise->surprise) (1.1.0)\n",
            "Requirement already satisfied: numpy>=1.11.2 in /usr/local/lib/python3.7/dist-packages (from scikit-surprise->surprise) (1.21.6)\n",
            "Requirement already satisfied: scipy>=1.0.0 in /usr/local/lib/python3.7/dist-packages (from scikit-surprise->surprise) (1.4.1)\n",
            "Requirement already satisfied: six>=1.10.0 in /usr/local/lib/python3.7/dist-packages (from scikit-surprise->surprise) (1.15.0)\n",
            "Building wheels for collected packages: scikit-surprise\n",
            "  Building wheel for scikit-surprise (setup.py) ... \u001b[?25l\u001b[?25hdone\n",
            "  Created wheel for scikit-surprise: filename=scikit_surprise-1.1.1-cp37-cp37m-linux_x86_64.whl size=1633687 sha256=ec619f16b2275f44d3ea49f940eb8698919e24d828713513fbafc681df4b1281\n",
            "  Stored in directory: /root/.cache/pip/wheels/76/44/74/b498c42be47b2406bd27994e16c5188e337c657025ab400c1c\n",
            "Successfully built scikit-surprise\n",
            "Installing collected packages: scikit-surprise, surprise\n",
            "Successfully installed scikit-surprise-1.1.1 surprise-0.1\n"
          ]
        }
      ]
    },
    {
      "cell_type": "code",
      "source": [
        "import numpy as np\n",
        "import pandas as pd\n",
        "\n",
        "import os\n",
        "import csv\n",
        "from collections import defaultdict\n",
        "\n",
        "from surprise import BaselineOnly\n",
        "from surprise import Dataset\n",
        "from surprise import Reader\n",
        "from surprise import SVD\n",
        "from surprise import accuracy\n",
        "from surprise.model_selection import cross_validate\n",
        "from surprise.model_selection import GridSearchCV\n",
        "\n",
        "import matplotlib.pyplot as plt\n",
        "import seaborn as sns\n",
        "\n",
        "import tensorflow as tf\n",
        "from tensorflow import keras\n",
        "from keras.layers import Input, Embedding, Flatten, Dot, Dense, Concatenate\n",
        "from keras.models import Model\n",
        "\n",
        "import sklearn\n",
        "from sklearn.model_selection import train_test_split\n",
        "from sklearn.preprocessing import OrdinalEncoder\n"
      ],
      "metadata": {
        "id": "mqE0PnyZkPwa"
      },
      "execution_count": 2,
      "outputs": []
    },
    {
      "cell_type": "code",
      "source": [
        "def get_top_n(predictions, n=3):\n",
        "    '''Return the top-N recommendation for each user from a set of predictions.\n",
        "\n",
        "    Args:\n",
        "        predictions(list of Prediction objects): The list of predictions, as\n",
        "            returned by the test method of an algorithm.\n",
        "        n(int): The number of recommendation to output for each user. Default\n",
        "            is 10.\n",
        "\n",
        "    Returns:\n",
        "    A dict where keys are user (raw) ids and values are lists of tuples:\n",
        "        [(raw item id, rating estimation), ...] of size n.\n",
        "    '''\n",
        "\n",
        "    # First map the predictions to each user.\n",
        "    top_n = defaultdict(list)\n",
        "    for uid, iid, true_r, est, _ in predictions:\n",
        "        top_n[uid].append((iid, est))\n",
        "\n",
        "    # Then sort the predictions for each user and retrieve the k highest ones.\n",
        "    for uid, user_ratings in top_n.items():\n",
        "        user_ratings.sort(key=lambda x: x[1], reverse=True)\n",
        "        top_n[uid] = user_ratings[:n]\n",
        "\n",
        "    return top_n"
      ],
      "metadata": {
        "id": "0R34ad7zwkFa"
      },
      "execution_count": 16,
      "outputs": []
    },
    {
      "cell_type": "markdown",
      "source": [
        "## Data Ingest"
      ],
      "metadata": {
        "id": "YxwgwjkSjugc"
      }
    },
    {
      "cell_type": "code",
      "source": [
        "data = pd.read_csv('https://raw.githubusercontent.com/jhancuch/onmart/main/recommenders/Transactions.csv')"
      ],
      "metadata": {
        "id": "qua_XyMkkPPo"
      },
      "execution_count": 3,
      "outputs": []
    },
    {
      "cell_type": "code",
      "source": [
        "data.info()"
      ],
      "metadata": {
        "colab": {
          "base_uri": "https://localhost:8080/"
        },
        "id": "nxdQqUcok7t_",
        "outputId": "d645eef3-e564-4183-ef65-429c56ff60cc"
      },
      "execution_count": 18,
      "outputs": [
        {
          "output_type": "stream",
          "name": "stdout",
          "text": [
            "<class 'pandas.core.frame.DataFrame'>\n",
            "RangeIndex: 16372 entries, 0 to 16371\n",
            "Data columns (total 22 columns):\n",
            " #   Column                   Non-Null Count  Dtype \n",
            "---  ------                   --------------  ----- \n",
            " 0   CustomerID               16372 non-null  object\n",
            " 1   FirstName                16372 non-null  object\n",
            " 2   LastName                 16372 non-null  object\n",
            " 3   CreditCardNumber         16372 non-null  object\n",
            " 4   OrderID                  16372 non-null  object\n",
            " 5   Customer_Occupation      16372 non-null  object\n",
            " 6   Credit_Card_Number       16372 non-null  int64 \n",
            " 7   Order_ID                 16372 non-null  int64 \n",
            " 8   Order_Date               16372 non-null  object\n",
            " 9   Expected_Delivery_Date   16372 non-null  object\n",
            " 10  Actual_Delivery_Date     16372 non-null  object\n",
            " 11  Product_ID               16372 non-null  object\n",
            " 12  Product_Name             16372 non-null  object\n",
            " 13  Category                 16372 non-null  object\n",
            " 14  Manufacturer             16372 non-null  object\n",
            " 15  Review_Rating            16372 non-null  int64 \n",
            " 16  Delivery_Tracking_ID     16372 non-null  int64 \n",
            " 17  Delivery_Type            16372 non-null  object\n",
            " 18  Delivery_Zip_Code        16372 non-null  int64 \n",
            " 19  Transaction_Status       16372 non-null  object\n",
            " 20  Order_Returned           16372 non-null  int64 \n",
            " 21  Order_Delivered_on_Time  16372 non-null  int64 \n",
            "dtypes: int64(7), object(15)\n",
            "memory usage: 2.7+ MB\n"
          ]
        }
      ]
    },
    {
      "cell_type": "code",
      "source": [
        "data.head()"
      ],
      "metadata": {
        "colab": {
          "base_uri": "https://localhost:8080/",
          "height": 560
        },
        "id": "BMRefkMuk7w2",
        "outputId": "3ae4b8ab-2fdd-499a-97f7-42d1ff4a706c"
      },
      "execution_count": 19,
      "outputs": [
        {
          "output_type": "execute_result",
          "data": {
            "text/plain": [
              "    CustomerID FirstName  LastName     CreditCardNumber  \\\n",
              "0  566-26-0321    Rebeka    Stokes  xxxx-xxxx-xxxx-2650   \n",
              "1  274-18-0017   Rahsaan      Koch  xxxx-xxxx-xxxx-5055   \n",
              "2  455-28-7950      Zion   Osinski  xxxx-xxxx-xxxx-0150   \n",
              "3  254-72-5938      Ward    Brekke  xxxx-xxxx-xxxx-5280   \n",
              "4  563-47-8401  Terrence  Franecki  xxxx-xxxx-xxxx-1019   \n",
              "\n",
              "                                OrderID Customer_Occupation  \\\n",
              "0  50787284-d78d-4b6a-b93f-7419b0d46590              Lawyer   \n",
              "1  f61639d7-28de-4507-a63a-71e99921d8f9              Lawyer   \n",
              "2  7b1caf69-bd5b-441c-9115-6fa31ba1c313              Lawyer   \n",
              "3  cb58e8e9-572b-4d9e-af9f-dbecf9dfd3c5               Actor   \n",
              "4  a9d66460-a48f-419f-8d39-7818290a3041               Actor   \n",
              "\n",
              "   Credit_Card_Number  Order_ID  Order_Date Expected_Delivery_Date  ...  \\\n",
              "0         12345789032        98    4/7/2020              4/11/2020  ...   \n",
              "1         12345789032       131   5/10/2020              5/14/2020  ...   \n",
              "2         12345789032       318  11/13/2020             11/17/2020  ...   \n",
              "3         12345789032       528   2/12/2020              2/16/2020  ...   \n",
              "4         12345789032       561   2/12/2020              2/16/2020  ...   \n",
              "\n",
              "   Product_Name Category  Manufacturer Review_Rating Delivery_Tracking_ID  \\\n",
              "0  Fitbit small  fitness  Fitbit small             3                   98   \n",
              "1  Fitbit small  fitness  Fitbit small             3                  131   \n",
              "2  Fitbit small  fitness  Fitbit small             3                  318   \n",
              "3  Fitbit large  fitness  Fitbit large             5                  528   \n",
              "4  Fitbit large  fitness  Fitbit large             5                  561   \n",
              "\n",
              "   Delivery_Type  Delivery_Zip_Code Transaction_Status  Order_Returned  \\\n",
              "0         Pickup              10048           Disputed               1   \n",
              "1         Pickup              10048           Disputed               1   \n",
              "2         Pickup              10048           Disputed               1   \n",
              "3         Pickup              10048           Disputed               0   \n",
              "4         Pickup              10048           Disputed               0   \n",
              "\n",
              "  Order_Delivered_on_Time  \n",
              "0                       1  \n",
              "1                       1  \n",
              "2                       1  \n",
              "3                       1  \n",
              "4                       1  \n",
              "\n",
              "[5 rows x 22 columns]"
            ],
            "text/html": [
              "\n",
              "  <div id=\"df-3b63cc29-e16b-4f72-acae-ddc04f346b5d\">\n",
              "    <div class=\"colab-df-container\">\n",
              "      <div>\n",
              "<style scoped>\n",
              "    .dataframe tbody tr th:only-of-type {\n",
              "        vertical-align: middle;\n",
              "    }\n",
              "\n",
              "    .dataframe tbody tr th {\n",
              "        vertical-align: top;\n",
              "    }\n",
              "\n",
              "    .dataframe thead th {\n",
              "        text-align: right;\n",
              "    }\n",
              "</style>\n",
              "<table border=\"1\" class=\"dataframe\">\n",
              "  <thead>\n",
              "    <tr style=\"text-align: right;\">\n",
              "      <th></th>\n",
              "      <th>CustomerID</th>\n",
              "      <th>FirstName</th>\n",
              "      <th>LastName</th>\n",
              "      <th>CreditCardNumber</th>\n",
              "      <th>OrderID</th>\n",
              "      <th>Customer_Occupation</th>\n",
              "      <th>Credit_Card_Number</th>\n",
              "      <th>Order_ID</th>\n",
              "      <th>Order_Date</th>\n",
              "      <th>Expected_Delivery_Date</th>\n",
              "      <th>...</th>\n",
              "      <th>Product_Name</th>\n",
              "      <th>Category</th>\n",
              "      <th>Manufacturer</th>\n",
              "      <th>Review_Rating</th>\n",
              "      <th>Delivery_Tracking_ID</th>\n",
              "      <th>Delivery_Type</th>\n",
              "      <th>Delivery_Zip_Code</th>\n",
              "      <th>Transaction_Status</th>\n",
              "      <th>Order_Returned</th>\n",
              "      <th>Order_Delivered_on_Time</th>\n",
              "    </tr>\n",
              "  </thead>\n",
              "  <tbody>\n",
              "    <tr>\n",
              "      <th>0</th>\n",
              "      <td>566-26-0321</td>\n",
              "      <td>Rebeka</td>\n",
              "      <td>Stokes</td>\n",
              "      <td>xxxx-xxxx-xxxx-2650</td>\n",
              "      <td>50787284-d78d-4b6a-b93f-7419b0d46590</td>\n",
              "      <td>Lawyer</td>\n",
              "      <td>12345789032</td>\n",
              "      <td>98</td>\n",
              "      <td>4/7/2020</td>\n",
              "      <td>4/11/2020</td>\n",
              "      <td>...</td>\n",
              "      <td>Fitbit small</td>\n",
              "      <td>fitness</td>\n",
              "      <td>Fitbit small</td>\n",
              "      <td>3</td>\n",
              "      <td>98</td>\n",
              "      <td>Pickup</td>\n",
              "      <td>10048</td>\n",
              "      <td>Disputed</td>\n",
              "      <td>1</td>\n",
              "      <td>1</td>\n",
              "    </tr>\n",
              "    <tr>\n",
              "      <th>1</th>\n",
              "      <td>274-18-0017</td>\n",
              "      <td>Rahsaan</td>\n",
              "      <td>Koch</td>\n",
              "      <td>xxxx-xxxx-xxxx-5055</td>\n",
              "      <td>f61639d7-28de-4507-a63a-71e99921d8f9</td>\n",
              "      <td>Lawyer</td>\n",
              "      <td>12345789032</td>\n",
              "      <td>131</td>\n",
              "      <td>5/10/2020</td>\n",
              "      <td>5/14/2020</td>\n",
              "      <td>...</td>\n",
              "      <td>Fitbit small</td>\n",
              "      <td>fitness</td>\n",
              "      <td>Fitbit small</td>\n",
              "      <td>3</td>\n",
              "      <td>131</td>\n",
              "      <td>Pickup</td>\n",
              "      <td>10048</td>\n",
              "      <td>Disputed</td>\n",
              "      <td>1</td>\n",
              "      <td>1</td>\n",
              "    </tr>\n",
              "    <tr>\n",
              "      <th>2</th>\n",
              "      <td>455-28-7950</td>\n",
              "      <td>Zion</td>\n",
              "      <td>Osinski</td>\n",
              "      <td>xxxx-xxxx-xxxx-0150</td>\n",
              "      <td>7b1caf69-bd5b-441c-9115-6fa31ba1c313</td>\n",
              "      <td>Lawyer</td>\n",
              "      <td>12345789032</td>\n",
              "      <td>318</td>\n",
              "      <td>11/13/2020</td>\n",
              "      <td>11/17/2020</td>\n",
              "      <td>...</td>\n",
              "      <td>Fitbit small</td>\n",
              "      <td>fitness</td>\n",
              "      <td>Fitbit small</td>\n",
              "      <td>3</td>\n",
              "      <td>318</td>\n",
              "      <td>Pickup</td>\n",
              "      <td>10048</td>\n",
              "      <td>Disputed</td>\n",
              "      <td>1</td>\n",
              "      <td>1</td>\n",
              "    </tr>\n",
              "    <tr>\n",
              "      <th>3</th>\n",
              "      <td>254-72-5938</td>\n",
              "      <td>Ward</td>\n",
              "      <td>Brekke</td>\n",
              "      <td>xxxx-xxxx-xxxx-5280</td>\n",
              "      <td>cb58e8e9-572b-4d9e-af9f-dbecf9dfd3c5</td>\n",
              "      <td>Actor</td>\n",
              "      <td>12345789032</td>\n",
              "      <td>528</td>\n",
              "      <td>2/12/2020</td>\n",
              "      <td>2/16/2020</td>\n",
              "      <td>...</td>\n",
              "      <td>Fitbit large</td>\n",
              "      <td>fitness</td>\n",
              "      <td>Fitbit large</td>\n",
              "      <td>5</td>\n",
              "      <td>528</td>\n",
              "      <td>Pickup</td>\n",
              "      <td>10048</td>\n",
              "      <td>Disputed</td>\n",
              "      <td>0</td>\n",
              "      <td>1</td>\n",
              "    </tr>\n",
              "    <tr>\n",
              "      <th>4</th>\n",
              "      <td>563-47-8401</td>\n",
              "      <td>Terrence</td>\n",
              "      <td>Franecki</td>\n",
              "      <td>xxxx-xxxx-xxxx-1019</td>\n",
              "      <td>a9d66460-a48f-419f-8d39-7818290a3041</td>\n",
              "      <td>Actor</td>\n",
              "      <td>12345789032</td>\n",
              "      <td>561</td>\n",
              "      <td>2/12/2020</td>\n",
              "      <td>2/16/2020</td>\n",
              "      <td>...</td>\n",
              "      <td>Fitbit large</td>\n",
              "      <td>fitness</td>\n",
              "      <td>Fitbit large</td>\n",
              "      <td>5</td>\n",
              "      <td>561</td>\n",
              "      <td>Pickup</td>\n",
              "      <td>10048</td>\n",
              "      <td>Disputed</td>\n",
              "      <td>0</td>\n",
              "      <td>1</td>\n",
              "    </tr>\n",
              "  </tbody>\n",
              "</table>\n",
              "<p>5 rows × 22 columns</p>\n",
              "</div>\n",
              "      <button class=\"colab-df-convert\" onclick=\"convertToInteractive('df-3b63cc29-e16b-4f72-acae-ddc04f346b5d')\"\n",
              "              title=\"Convert this dataframe to an interactive table.\"\n",
              "              style=\"display:none;\">\n",
              "        \n",
              "  <svg xmlns=\"http://www.w3.org/2000/svg\" height=\"24px\"viewBox=\"0 0 24 24\"\n",
              "       width=\"24px\">\n",
              "    <path d=\"M0 0h24v24H0V0z\" fill=\"none\"/>\n",
              "    <path d=\"M18.56 5.44l.94 2.06.94-2.06 2.06-.94-2.06-.94-.94-2.06-.94 2.06-2.06.94zm-11 1L8.5 8.5l.94-2.06 2.06-.94-2.06-.94L8.5 2.5l-.94 2.06-2.06.94zm10 10l.94 2.06.94-2.06 2.06-.94-2.06-.94-.94-2.06-.94 2.06-2.06.94z\"/><path d=\"M17.41 7.96l-1.37-1.37c-.4-.4-.92-.59-1.43-.59-.52 0-1.04.2-1.43.59L10.3 9.45l-7.72 7.72c-.78.78-.78 2.05 0 2.83L4 21.41c.39.39.9.59 1.41.59.51 0 1.02-.2 1.41-.59l7.78-7.78 2.81-2.81c.8-.78.8-2.07 0-2.86zM5.41 20L4 18.59l7.72-7.72 1.47 1.35L5.41 20z\"/>\n",
              "  </svg>\n",
              "      </button>\n",
              "      \n",
              "  <style>\n",
              "    .colab-df-container {\n",
              "      display:flex;\n",
              "      flex-wrap:wrap;\n",
              "      gap: 12px;\n",
              "    }\n",
              "\n",
              "    .colab-df-convert {\n",
              "      background-color: #E8F0FE;\n",
              "      border: none;\n",
              "      border-radius: 50%;\n",
              "      cursor: pointer;\n",
              "      display: none;\n",
              "      fill: #1967D2;\n",
              "      height: 32px;\n",
              "      padding: 0 0 0 0;\n",
              "      width: 32px;\n",
              "    }\n",
              "\n",
              "    .colab-df-convert:hover {\n",
              "      background-color: #E2EBFA;\n",
              "      box-shadow: 0px 1px 2px rgba(60, 64, 67, 0.3), 0px 1px 3px 1px rgba(60, 64, 67, 0.15);\n",
              "      fill: #174EA6;\n",
              "    }\n",
              "\n",
              "    [theme=dark] .colab-df-convert {\n",
              "      background-color: #3B4455;\n",
              "      fill: #D2E3FC;\n",
              "    }\n",
              "\n",
              "    [theme=dark] .colab-df-convert:hover {\n",
              "      background-color: #434B5C;\n",
              "      box-shadow: 0px 1px 3px 1px rgba(0, 0, 0, 0.15);\n",
              "      filter: drop-shadow(0px 1px 2px rgba(0, 0, 0, 0.3));\n",
              "      fill: #FFFFFF;\n",
              "    }\n",
              "  </style>\n",
              "\n",
              "      <script>\n",
              "        const buttonEl =\n",
              "          document.querySelector('#df-3b63cc29-e16b-4f72-acae-ddc04f346b5d button.colab-df-convert');\n",
              "        buttonEl.style.display =\n",
              "          google.colab.kernel.accessAllowed ? 'block' : 'none';\n",
              "\n",
              "        async function convertToInteractive(key) {\n",
              "          const element = document.querySelector('#df-3b63cc29-e16b-4f72-acae-ddc04f346b5d');\n",
              "          const dataTable =\n",
              "            await google.colab.kernel.invokeFunction('convertToInteractive',\n",
              "                                                     [key], {});\n",
              "          if (!dataTable) return;\n",
              "\n",
              "          const docLinkHtml = 'Like what you see? Visit the ' +\n",
              "            '<a target=\"_blank\" href=https://colab.research.google.com/notebooks/data_table.ipynb>data table notebook</a>'\n",
              "            + ' to learn more about interactive tables.';\n",
              "          element.innerHTML = '';\n",
              "          dataTable['output_type'] = 'display_data';\n",
              "          await google.colab.output.renderOutput(dataTable, element);\n",
              "          const docLink = document.createElement('div');\n",
              "          docLink.innerHTML = docLinkHtml;\n",
              "          element.appendChild(docLink);\n",
              "        }\n",
              "      </script>\n",
              "    </div>\n",
              "  </div>\n",
              "  "
            ]
          },
          "metadata": {},
          "execution_count": 19
        }
      ]
    },
    {
      "cell_type": "code",
      "source": [
        "data.tail()"
      ],
      "metadata": {
        "colab": {
          "base_uri": "https://localhost:8080/",
          "height": 542
        },
        "id": "0St-U7NMk70r",
        "outputId": "fa4fd21a-970b-4ac0-d026-36f1f71f2a67"
      },
      "execution_count": 20,
      "outputs": [
        {
          "output_type": "execute_result",
          "data": {
            "text/plain": [
              "        CustomerID FirstName  LastName     CreditCardNumber  \\\n",
              "16367  564-40-9827     Madie    Mayert  xxxx-xxxx-xxxx-1592   \n",
              "16368  627-64-3054   Vincent  Ondricka  xxxx-xxxx-xxxx-9291   \n",
              "16369  564-40-9827     Madie    Mayert  xxxx-xxxx-xxxx-1592   \n",
              "16370  416-42-9023     Lonzo     Tromp  xxxx-xxxx-xxxx-8745   \n",
              "16371  177-25-9819        Bo      Veum  xxxx-xxxx-xxxx-7679   \n",
              "\n",
              "                                    OrderID Customer_Occupation  \\\n",
              "16367  1b69b9ee-3017-429e-9e1b-9994ead619c0              Lawyer   \n",
              "16368  27f2841e-27cd-42d0-8000-f99b7ad7711d              Lawyer   \n",
              "16369  46db23f8-a2aa-48e1-96c4-9c07e89ad8eb              Lawyer   \n",
              "16370  dbffba44-ac7c-41d5-adfb-5298be07d057               Actor   \n",
              "16371  e05ea8c5-027d-4db3-ba6b-666acab5f614              Lawyer   \n",
              "\n",
              "       Credit_Card_Number  Order_ID Order_Date Expected_Delivery_Date  ...  \\\n",
              "16367         12345789032     11949   6/7/2019              6/11/2019  ...   \n",
              "16368         12345789032     12033  8/30/2019               9/3/2019  ...   \n",
              "16369         12345789032     12236  2/25/2019               3/1/2019  ...   \n",
              "16370         12345789032     12293  1/21/2019              1/25/2019  ...   \n",
              "16371         12345789032     12360   3/1/2019               3/5/2019  ...   \n",
              "\n",
              "       Product_Name Category  Manufacturer Review_Rating Delivery_Tracking_ID  \\\n",
              "16367  Fitbit small  fitness  Fitbit small             3                11949   \n",
              "16368  Fitbit small  fitness  Fitbit small             3                12033   \n",
              "16369  Fitbit small  fitness  Fitbit small             3                12236   \n",
              "16370  Fitbit large  fitness  Fitbit large             5                12293   \n",
              "16371  Fitbit small  fitness  Fitbit small             3                12360   \n",
              "\n",
              "       Delivery_Type  Delivery_Zip_Code Transaction_Status  Order_Returned  \\\n",
              "16367         Pickup              90774           Disputed               1   \n",
              "16368         Pickup              90774           Disputed               1   \n",
              "16369         Pickup              90774           Disputed               1   \n",
              "16370         Pickup              90774           Disputed               0   \n",
              "16371         Pickup              90774           Disputed               1   \n",
              "\n",
              "      Order_Delivered_on_Time  \n",
              "16367                       1  \n",
              "16368                       1  \n",
              "16369                       1  \n",
              "16370                       1  \n",
              "16371                       1  \n",
              "\n",
              "[5 rows x 22 columns]"
            ],
            "text/html": [
              "\n",
              "  <div id=\"df-25f8ffc4-b81e-49ee-8e9c-c9c56cf548b6\">\n",
              "    <div class=\"colab-df-container\">\n",
              "      <div>\n",
              "<style scoped>\n",
              "    .dataframe tbody tr th:only-of-type {\n",
              "        vertical-align: middle;\n",
              "    }\n",
              "\n",
              "    .dataframe tbody tr th {\n",
              "        vertical-align: top;\n",
              "    }\n",
              "\n",
              "    .dataframe thead th {\n",
              "        text-align: right;\n",
              "    }\n",
              "</style>\n",
              "<table border=\"1\" class=\"dataframe\">\n",
              "  <thead>\n",
              "    <tr style=\"text-align: right;\">\n",
              "      <th></th>\n",
              "      <th>CustomerID</th>\n",
              "      <th>FirstName</th>\n",
              "      <th>LastName</th>\n",
              "      <th>CreditCardNumber</th>\n",
              "      <th>OrderID</th>\n",
              "      <th>Customer_Occupation</th>\n",
              "      <th>Credit_Card_Number</th>\n",
              "      <th>Order_ID</th>\n",
              "      <th>Order_Date</th>\n",
              "      <th>Expected_Delivery_Date</th>\n",
              "      <th>...</th>\n",
              "      <th>Product_Name</th>\n",
              "      <th>Category</th>\n",
              "      <th>Manufacturer</th>\n",
              "      <th>Review_Rating</th>\n",
              "      <th>Delivery_Tracking_ID</th>\n",
              "      <th>Delivery_Type</th>\n",
              "      <th>Delivery_Zip_Code</th>\n",
              "      <th>Transaction_Status</th>\n",
              "      <th>Order_Returned</th>\n",
              "      <th>Order_Delivered_on_Time</th>\n",
              "    </tr>\n",
              "  </thead>\n",
              "  <tbody>\n",
              "    <tr>\n",
              "      <th>16367</th>\n",
              "      <td>564-40-9827</td>\n",
              "      <td>Madie</td>\n",
              "      <td>Mayert</td>\n",
              "      <td>xxxx-xxxx-xxxx-1592</td>\n",
              "      <td>1b69b9ee-3017-429e-9e1b-9994ead619c0</td>\n",
              "      <td>Lawyer</td>\n",
              "      <td>12345789032</td>\n",
              "      <td>11949</td>\n",
              "      <td>6/7/2019</td>\n",
              "      <td>6/11/2019</td>\n",
              "      <td>...</td>\n",
              "      <td>Fitbit small</td>\n",
              "      <td>fitness</td>\n",
              "      <td>Fitbit small</td>\n",
              "      <td>3</td>\n",
              "      <td>11949</td>\n",
              "      <td>Pickup</td>\n",
              "      <td>90774</td>\n",
              "      <td>Disputed</td>\n",
              "      <td>1</td>\n",
              "      <td>1</td>\n",
              "    </tr>\n",
              "    <tr>\n",
              "      <th>16368</th>\n",
              "      <td>627-64-3054</td>\n",
              "      <td>Vincent</td>\n",
              "      <td>Ondricka</td>\n",
              "      <td>xxxx-xxxx-xxxx-9291</td>\n",
              "      <td>27f2841e-27cd-42d0-8000-f99b7ad7711d</td>\n",
              "      <td>Lawyer</td>\n",
              "      <td>12345789032</td>\n",
              "      <td>12033</td>\n",
              "      <td>8/30/2019</td>\n",
              "      <td>9/3/2019</td>\n",
              "      <td>...</td>\n",
              "      <td>Fitbit small</td>\n",
              "      <td>fitness</td>\n",
              "      <td>Fitbit small</td>\n",
              "      <td>3</td>\n",
              "      <td>12033</td>\n",
              "      <td>Pickup</td>\n",
              "      <td>90774</td>\n",
              "      <td>Disputed</td>\n",
              "      <td>1</td>\n",
              "      <td>1</td>\n",
              "    </tr>\n",
              "    <tr>\n",
              "      <th>16369</th>\n",
              "      <td>564-40-9827</td>\n",
              "      <td>Madie</td>\n",
              "      <td>Mayert</td>\n",
              "      <td>xxxx-xxxx-xxxx-1592</td>\n",
              "      <td>46db23f8-a2aa-48e1-96c4-9c07e89ad8eb</td>\n",
              "      <td>Lawyer</td>\n",
              "      <td>12345789032</td>\n",
              "      <td>12236</td>\n",
              "      <td>2/25/2019</td>\n",
              "      <td>3/1/2019</td>\n",
              "      <td>...</td>\n",
              "      <td>Fitbit small</td>\n",
              "      <td>fitness</td>\n",
              "      <td>Fitbit small</td>\n",
              "      <td>3</td>\n",
              "      <td>12236</td>\n",
              "      <td>Pickup</td>\n",
              "      <td>90774</td>\n",
              "      <td>Disputed</td>\n",
              "      <td>1</td>\n",
              "      <td>1</td>\n",
              "    </tr>\n",
              "    <tr>\n",
              "      <th>16370</th>\n",
              "      <td>416-42-9023</td>\n",
              "      <td>Lonzo</td>\n",
              "      <td>Tromp</td>\n",
              "      <td>xxxx-xxxx-xxxx-8745</td>\n",
              "      <td>dbffba44-ac7c-41d5-adfb-5298be07d057</td>\n",
              "      <td>Actor</td>\n",
              "      <td>12345789032</td>\n",
              "      <td>12293</td>\n",
              "      <td>1/21/2019</td>\n",
              "      <td>1/25/2019</td>\n",
              "      <td>...</td>\n",
              "      <td>Fitbit large</td>\n",
              "      <td>fitness</td>\n",
              "      <td>Fitbit large</td>\n",
              "      <td>5</td>\n",
              "      <td>12293</td>\n",
              "      <td>Pickup</td>\n",
              "      <td>90774</td>\n",
              "      <td>Disputed</td>\n",
              "      <td>0</td>\n",
              "      <td>1</td>\n",
              "    </tr>\n",
              "    <tr>\n",
              "      <th>16371</th>\n",
              "      <td>177-25-9819</td>\n",
              "      <td>Bo</td>\n",
              "      <td>Veum</td>\n",
              "      <td>xxxx-xxxx-xxxx-7679</td>\n",
              "      <td>e05ea8c5-027d-4db3-ba6b-666acab5f614</td>\n",
              "      <td>Lawyer</td>\n",
              "      <td>12345789032</td>\n",
              "      <td>12360</td>\n",
              "      <td>3/1/2019</td>\n",
              "      <td>3/5/2019</td>\n",
              "      <td>...</td>\n",
              "      <td>Fitbit small</td>\n",
              "      <td>fitness</td>\n",
              "      <td>Fitbit small</td>\n",
              "      <td>3</td>\n",
              "      <td>12360</td>\n",
              "      <td>Pickup</td>\n",
              "      <td>90774</td>\n",
              "      <td>Disputed</td>\n",
              "      <td>1</td>\n",
              "      <td>1</td>\n",
              "    </tr>\n",
              "  </tbody>\n",
              "</table>\n",
              "<p>5 rows × 22 columns</p>\n",
              "</div>\n",
              "      <button class=\"colab-df-convert\" onclick=\"convertToInteractive('df-25f8ffc4-b81e-49ee-8e9c-c9c56cf548b6')\"\n",
              "              title=\"Convert this dataframe to an interactive table.\"\n",
              "              style=\"display:none;\">\n",
              "        \n",
              "  <svg xmlns=\"http://www.w3.org/2000/svg\" height=\"24px\"viewBox=\"0 0 24 24\"\n",
              "       width=\"24px\">\n",
              "    <path d=\"M0 0h24v24H0V0z\" fill=\"none\"/>\n",
              "    <path d=\"M18.56 5.44l.94 2.06.94-2.06 2.06-.94-2.06-.94-.94-2.06-.94 2.06-2.06.94zm-11 1L8.5 8.5l.94-2.06 2.06-.94-2.06-.94L8.5 2.5l-.94 2.06-2.06.94zm10 10l.94 2.06.94-2.06 2.06-.94-2.06-.94-.94-2.06-.94 2.06-2.06.94z\"/><path d=\"M17.41 7.96l-1.37-1.37c-.4-.4-.92-.59-1.43-.59-.52 0-1.04.2-1.43.59L10.3 9.45l-7.72 7.72c-.78.78-.78 2.05 0 2.83L4 21.41c.39.39.9.59 1.41.59.51 0 1.02-.2 1.41-.59l7.78-7.78 2.81-2.81c.8-.78.8-2.07 0-2.86zM5.41 20L4 18.59l7.72-7.72 1.47 1.35L5.41 20z\"/>\n",
              "  </svg>\n",
              "      </button>\n",
              "      \n",
              "  <style>\n",
              "    .colab-df-container {\n",
              "      display:flex;\n",
              "      flex-wrap:wrap;\n",
              "      gap: 12px;\n",
              "    }\n",
              "\n",
              "    .colab-df-convert {\n",
              "      background-color: #E8F0FE;\n",
              "      border: none;\n",
              "      border-radius: 50%;\n",
              "      cursor: pointer;\n",
              "      display: none;\n",
              "      fill: #1967D2;\n",
              "      height: 32px;\n",
              "      padding: 0 0 0 0;\n",
              "      width: 32px;\n",
              "    }\n",
              "\n",
              "    .colab-df-convert:hover {\n",
              "      background-color: #E2EBFA;\n",
              "      box-shadow: 0px 1px 2px rgba(60, 64, 67, 0.3), 0px 1px 3px 1px rgba(60, 64, 67, 0.15);\n",
              "      fill: #174EA6;\n",
              "    }\n",
              "\n",
              "    [theme=dark] .colab-df-convert {\n",
              "      background-color: #3B4455;\n",
              "      fill: #D2E3FC;\n",
              "    }\n",
              "\n",
              "    [theme=dark] .colab-df-convert:hover {\n",
              "      background-color: #434B5C;\n",
              "      box-shadow: 0px 1px 3px 1px rgba(0, 0, 0, 0.15);\n",
              "      filter: drop-shadow(0px 1px 2px rgba(0, 0, 0, 0.3));\n",
              "      fill: #FFFFFF;\n",
              "    }\n",
              "  </style>\n",
              "\n",
              "      <script>\n",
              "        const buttonEl =\n",
              "          document.querySelector('#df-25f8ffc4-b81e-49ee-8e9c-c9c56cf548b6 button.colab-df-convert');\n",
              "        buttonEl.style.display =\n",
              "          google.colab.kernel.accessAllowed ? 'block' : 'none';\n",
              "\n",
              "        async function convertToInteractive(key) {\n",
              "          const element = document.querySelector('#df-25f8ffc4-b81e-49ee-8e9c-c9c56cf548b6');\n",
              "          const dataTable =\n",
              "            await google.colab.kernel.invokeFunction('convertToInteractive',\n",
              "                                                     [key], {});\n",
              "          if (!dataTable) return;\n",
              "\n",
              "          const docLinkHtml = 'Like what you see? Visit the ' +\n",
              "            '<a target=\"_blank\" href=https://colab.research.google.com/notebooks/data_table.ipynb>data table notebook</a>'\n",
              "            + ' to learn more about interactive tables.';\n",
              "          element.innerHTML = '';\n",
              "          dataTable['output_type'] = 'display_data';\n",
              "          await google.colab.output.renderOutput(dataTable, element);\n",
              "          const docLink = document.createElement('div');\n",
              "          docLink.innerHTML = docLinkHtml;\n",
              "          element.appendChild(docLink);\n",
              "        }\n",
              "      </script>\n",
              "    </div>\n",
              "  </div>\n",
              "  "
            ]
          },
          "metadata": {},
          "execution_count": 20
        }
      ]
    },
    {
      "cell_type": "markdown",
      "source": [
        "## EDA"
      ],
      "metadata": {
        "id": "bolpW_4IlSu9"
      }
    },
    {
      "cell_type": "markdown",
      "source": [
        "#### Filter the products with more than 100 ratings."
      ],
      "metadata": {
        "id": "mESXd7KElXyh"
      }
    },
    {
      "cell_type": "code",
      "source": [
        "q1 = data.groupby('Product_Name')['OrderID'].count().reset_index(name='Count')\n",
        "\n",
        "q1_2 = q1[q1['Count'] >= 100]\n",
        "\n",
        "q1_2.sort_values('Count', inplace=True, ascending=False)"
      ],
      "metadata": {
        "id": "r8lfMTphm3Ym"
      },
      "execution_count": 21,
      "outputs": []
    },
    {
      "cell_type": "code",
      "source": [
        "q1_2"
      ],
      "metadata": {
        "id": "2b7RMZaqnLN3",
        "outputId": "bedd504b-a040-43e8-ad14-b07a863b2a9e",
        "colab": {
          "base_uri": "https://localhost:8080/",
          "height": 363
        }
      },
      "execution_count": 22,
      "outputs": [
        {
          "output_type": "execute_result",
          "data": {
            "text/plain": [
              "    Product_Name  Count\n",
              "2   Fitbit small   2904\n",
              "1   Fitbit large   2903\n",
              "8           Sony   2435\n",
              "5       Logitech   1525\n",
              "9            VR7   1520\n",
              "3  Harman Kardon   1445\n",
              "0           Bose    910\n",
              "4            JBL    910\n",
              "6          Redmi    910\n",
              "7    Samsung s10    910"
            ],
            "text/html": [
              "\n",
              "  <div id=\"df-a6dd86db-2c58-453f-be0c-aa428c2b9f2a\">\n",
              "    <div class=\"colab-df-container\">\n",
              "      <div>\n",
              "<style scoped>\n",
              "    .dataframe tbody tr th:only-of-type {\n",
              "        vertical-align: middle;\n",
              "    }\n",
              "\n",
              "    .dataframe tbody tr th {\n",
              "        vertical-align: top;\n",
              "    }\n",
              "\n",
              "    .dataframe thead th {\n",
              "        text-align: right;\n",
              "    }\n",
              "</style>\n",
              "<table border=\"1\" class=\"dataframe\">\n",
              "  <thead>\n",
              "    <tr style=\"text-align: right;\">\n",
              "      <th></th>\n",
              "      <th>Product_Name</th>\n",
              "      <th>Count</th>\n",
              "    </tr>\n",
              "  </thead>\n",
              "  <tbody>\n",
              "    <tr>\n",
              "      <th>2</th>\n",
              "      <td>Fitbit small</td>\n",
              "      <td>2904</td>\n",
              "    </tr>\n",
              "    <tr>\n",
              "      <th>1</th>\n",
              "      <td>Fitbit large</td>\n",
              "      <td>2903</td>\n",
              "    </tr>\n",
              "    <tr>\n",
              "      <th>8</th>\n",
              "      <td>Sony</td>\n",
              "      <td>2435</td>\n",
              "    </tr>\n",
              "    <tr>\n",
              "      <th>5</th>\n",
              "      <td>Logitech</td>\n",
              "      <td>1525</td>\n",
              "    </tr>\n",
              "    <tr>\n",
              "      <th>9</th>\n",
              "      <td>VR7</td>\n",
              "      <td>1520</td>\n",
              "    </tr>\n",
              "    <tr>\n",
              "      <th>3</th>\n",
              "      <td>Harman Kardon</td>\n",
              "      <td>1445</td>\n",
              "    </tr>\n",
              "    <tr>\n",
              "      <th>0</th>\n",
              "      <td>Bose</td>\n",
              "      <td>910</td>\n",
              "    </tr>\n",
              "    <tr>\n",
              "      <th>4</th>\n",
              "      <td>JBL</td>\n",
              "      <td>910</td>\n",
              "    </tr>\n",
              "    <tr>\n",
              "      <th>6</th>\n",
              "      <td>Redmi</td>\n",
              "      <td>910</td>\n",
              "    </tr>\n",
              "    <tr>\n",
              "      <th>7</th>\n",
              "      <td>Samsung s10</td>\n",
              "      <td>910</td>\n",
              "    </tr>\n",
              "  </tbody>\n",
              "</table>\n",
              "</div>\n",
              "      <button class=\"colab-df-convert\" onclick=\"convertToInteractive('df-a6dd86db-2c58-453f-be0c-aa428c2b9f2a')\"\n",
              "              title=\"Convert this dataframe to an interactive table.\"\n",
              "              style=\"display:none;\">\n",
              "        \n",
              "  <svg xmlns=\"http://www.w3.org/2000/svg\" height=\"24px\"viewBox=\"0 0 24 24\"\n",
              "       width=\"24px\">\n",
              "    <path d=\"M0 0h24v24H0V0z\" fill=\"none\"/>\n",
              "    <path d=\"M18.56 5.44l.94 2.06.94-2.06 2.06-.94-2.06-.94-.94-2.06-.94 2.06-2.06.94zm-11 1L8.5 8.5l.94-2.06 2.06-.94-2.06-.94L8.5 2.5l-.94 2.06-2.06.94zm10 10l.94 2.06.94-2.06 2.06-.94-2.06-.94-.94-2.06-.94 2.06-2.06.94z\"/><path d=\"M17.41 7.96l-1.37-1.37c-.4-.4-.92-.59-1.43-.59-.52 0-1.04.2-1.43.59L10.3 9.45l-7.72 7.72c-.78.78-.78 2.05 0 2.83L4 21.41c.39.39.9.59 1.41.59.51 0 1.02-.2 1.41-.59l7.78-7.78 2.81-2.81c.8-.78.8-2.07 0-2.86zM5.41 20L4 18.59l7.72-7.72 1.47 1.35L5.41 20z\"/>\n",
              "  </svg>\n",
              "      </button>\n",
              "      \n",
              "  <style>\n",
              "    .colab-df-container {\n",
              "      display:flex;\n",
              "      flex-wrap:wrap;\n",
              "      gap: 12px;\n",
              "    }\n",
              "\n",
              "    .colab-df-convert {\n",
              "      background-color: #E8F0FE;\n",
              "      border: none;\n",
              "      border-radius: 50%;\n",
              "      cursor: pointer;\n",
              "      display: none;\n",
              "      fill: #1967D2;\n",
              "      height: 32px;\n",
              "      padding: 0 0 0 0;\n",
              "      width: 32px;\n",
              "    }\n",
              "\n",
              "    .colab-df-convert:hover {\n",
              "      background-color: #E2EBFA;\n",
              "      box-shadow: 0px 1px 2px rgba(60, 64, 67, 0.3), 0px 1px 3px 1px rgba(60, 64, 67, 0.15);\n",
              "      fill: #174EA6;\n",
              "    }\n",
              "\n",
              "    [theme=dark] .colab-df-convert {\n",
              "      background-color: #3B4455;\n",
              "      fill: #D2E3FC;\n",
              "    }\n",
              "\n",
              "    [theme=dark] .colab-df-convert:hover {\n",
              "      background-color: #434B5C;\n",
              "      box-shadow: 0px 1px 3px 1px rgba(0, 0, 0, 0.15);\n",
              "      filter: drop-shadow(0px 1px 2px rgba(0, 0, 0, 0.3));\n",
              "      fill: #FFFFFF;\n",
              "    }\n",
              "  </style>\n",
              "\n",
              "      <script>\n",
              "        const buttonEl =\n",
              "          document.querySelector('#df-a6dd86db-2c58-453f-be0c-aa428c2b9f2a button.colab-df-convert');\n",
              "        buttonEl.style.display =\n",
              "          google.colab.kernel.accessAllowed ? 'block' : 'none';\n",
              "\n",
              "        async function convertToInteractive(key) {\n",
              "          const element = document.querySelector('#df-a6dd86db-2c58-453f-be0c-aa428c2b9f2a');\n",
              "          const dataTable =\n",
              "            await google.colab.kernel.invokeFunction('convertToInteractive',\n",
              "                                                     [key], {});\n",
              "          if (!dataTable) return;\n",
              "\n",
              "          const docLinkHtml = 'Like what you see? Visit the ' +\n",
              "            '<a target=\"_blank\" href=https://colab.research.google.com/notebooks/data_table.ipynb>data table notebook</a>'\n",
              "            + ' to learn more about interactive tables.';\n",
              "          element.innerHTML = '';\n",
              "          dataTable['output_type'] = 'display_data';\n",
              "          await google.colab.output.renderOutput(dataTable, element);\n",
              "          const docLink = document.createElement('div');\n",
              "          docLink.innerHTML = docLinkHtml;\n",
              "          element.appendChild(docLink);\n",
              "        }\n",
              "      </script>\n",
              "    </div>\n",
              "  </div>\n",
              "  "
            ]
          },
          "metadata": {},
          "execution_count": 22
        }
      ]
    },
    {
      "cell_type": "markdown",
      "source": [
        "#### Filter the customers that have rated more than 10 products."
      ],
      "metadata": {
        "id": "bvjr_txrlX3F"
      }
    },
    {
      "cell_type": "code",
      "source": [
        "q2 = data.groupby('CustomerID')['OrderID'].count().reset_index(name='Count')\n",
        "\n",
        "q2_2 = q2[q2['Count'] >= 10]\n",
        "\n",
        "q2_3 = q2_2.sort_values('Count', ascending=False)"
      ],
      "metadata": {
        "id": "pn4Wh5tNn0jc"
      },
      "execution_count": 23,
      "outputs": []
    },
    {
      "cell_type": "code",
      "source": [
        "q2_3"
      ],
      "metadata": {
        "id": "dmSRecK2n0mh",
        "outputId": "553bd714-bb46-40c6-e86a-a67587ea7b6b",
        "colab": {
          "base_uri": "https://localhost:8080/",
          "height": 424
        }
      },
      "execution_count": 24,
      "outputs": [
        {
          "output_type": "execute_result",
          "data": {
            "text/plain": [
              "       CustomerID  Count\n",
              "1204  314-29-2888     18\n",
              "3497  883-95-0412     18\n",
              "1569  401-86-2084     18\n",
              "2897  741-37-0838     18\n",
              "1956  500-36-5019     15\n",
              "...           ...    ...\n",
              "1111  290-65-2597     12\n",
              "3520  890-12-3553     12\n",
              "1057  277-36-4732     11\n",
              "3079  785-60-9363     10\n",
              "1863  476-35-0747     10\n",
              "\n",
              "[97 rows x 2 columns]"
            ],
            "text/html": [
              "\n",
              "  <div id=\"df-658b4ee4-f596-4a9e-af2a-8701957dca5f\">\n",
              "    <div class=\"colab-df-container\">\n",
              "      <div>\n",
              "<style scoped>\n",
              "    .dataframe tbody tr th:only-of-type {\n",
              "        vertical-align: middle;\n",
              "    }\n",
              "\n",
              "    .dataframe tbody tr th {\n",
              "        vertical-align: top;\n",
              "    }\n",
              "\n",
              "    .dataframe thead th {\n",
              "        text-align: right;\n",
              "    }\n",
              "</style>\n",
              "<table border=\"1\" class=\"dataframe\">\n",
              "  <thead>\n",
              "    <tr style=\"text-align: right;\">\n",
              "      <th></th>\n",
              "      <th>CustomerID</th>\n",
              "      <th>Count</th>\n",
              "    </tr>\n",
              "  </thead>\n",
              "  <tbody>\n",
              "    <tr>\n",
              "      <th>1204</th>\n",
              "      <td>314-29-2888</td>\n",
              "      <td>18</td>\n",
              "    </tr>\n",
              "    <tr>\n",
              "      <th>3497</th>\n",
              "      <td>883-95-0412</td>\n",
              "      <td>18</td>\n",
              "    </tr>\n",
              "    <tr>\n",
              "      <th>1569</th>\n",
              "      <td>401-86-2084</td>\n",
              "      <td>18</td>\n",
              "    </tr>\n",
              "    <tr>\n",
              "      <th>2897</th>\n",
              "      <td>741-37-0838</td>\n",
              "      <td>18</td>\n",
              "    </tr>\n",
              "    <tr>\n",
              "      <th>1956</th>\n",
              "      <td>500-36-5019</td>\n",
              "      <td>15</td>\n",
              "    </tr>\n",
              "    <tr>\n",
              "      <th>...</th>\n",
              "      <td>...</td>\n",
              "      <td>...</td>\n",
              "    </tr>\n",
              "    <tr>\n",
              "      <th>1111</th>\n",
              "      <td>290-65-2597</td>\n",
              "      <td>12</td>\n",
              "    </tr>\n",
              "    <tr>\n",
              "      <th>3520</th>\n",
              "      <td>890-12-3553</td>\n",
              "      <td>12</td>\n",
              "    </tr>\n",
              "    <tr>\n",
              "      <th>1057</th>\n",
              "      <td>277-36-4732</td>\n",
              "      <td>11</td>\n",
              "    </tr>\n",
              "    <tr>\n",
              "      <th>3079</th>\n",
              "      <td>785-60-9363</td>\n",
              "      <td>10</td>\n",
              "    </tr>\n",
              "    <tr>\n",
              "      <th>1863</th>\n",
              "      <td>476-35-0747</td>\n",
              "      <td>10</td>\n",
              "    </tr>\n",
              "  </tbody>\n",
              "</table>\n",
              "<p>97 rows × 2 columns</p>\n",
              "</div>\n",
              "      <button class=\"colab-df-convert\" onclick=\"convertToInteractive('df-658b4ee4-f596-4a9e-af2a-8701957dca5f')\"\n",
              "              title=\"Convert this dataframe to an interactive table.\"\n",
              "              style=\"display:none;\">\n",
              "        \n",
              "  <svg xmlns=\"http://www.w3.org/2000/svg\" height=\"24px\"viewBox=\"0 0 24 24\"\n",
              "       width=\"24px\">\n",
              "    <path d=\"M0 0h24v24H0V0z\" fill=\"none\"/>\n",
              "    <path d=\"M18.56 5.44l.94 2.06.94-2.06 2.06-.94-2.06-.94-.94-2.06-.94 2.06-2.06.94zm-11 1L8.5 8.5l.94-2.06 2.06-.94-2.06-.94L8.5 2.5l-.94 2.06-2.06.94zm10 10l.94 2.06.94-2.06 2.06-.94-2.06-.94-.94-2.06-.94 2.06-2.06.94z\"/><path d=\"M17.41 7.96l-1.37-1.37c-.4-.4-.92-.59-1.43-.59-.52 0-1.04.2-1.43.59L10.3 9.45l-7.72 7.72c-.78.78-.78 2.05 0 2.83L4 21.41c.39.39.9.59 1.41.59.51 0 1.02-.2 1.41-.59l7.78-7.78 2.81-2.81c.8-.78.8-2.07 0-2.86zM5.41 20L4 18.59l7.72-7.72 1.47 1.35L5.41 20z\"/>\n",
              "  </svg>\n",
              "      </button>\n",
              "      \n",
              "  <style>\n",
              "    .colab-df-container {\n",
              "      display:flex;\n",
              "      flex-wrap:wrap;\n",
              "      gap: 12px;\n",
              "    }\n",
              "\n",
              "    .colab-df-convert {\n",
              "      background-color: #E8F0FE;\n",
              "      border: none;\n",
              "      border-radius: 50%;\n",
              "      cursor: pointer;\n",
              "      display: none;\n",
              "      fill: #1967D2;\n",
              "      height: 32px;\n",
              "      padding: 0 0 0 0;\n",
              "      width: 32px;\n",
              "    }\n",
              "\n",
              "    .colab-df-convert:hover {\n",
              "      background-color: #E2EBFA;\n",
              "      box-shadow: 0px 1px 2px rgba(60, 64, 67, 0.3), 0px 1px 3px 1px rgba(60, 64, 67, 0.15);\n",
              "      fill: #174EA6;\n",
              "    }\n",
              "\n",
              "    [theme=dark] .colab-df-convert {\n",
              "      background-color: #3B4455;\n",
              "      fill: #D2E3FC;\n",
              "    }\n",
              "\n",
              "    [theme=dark] .colab-df-convert:hover {\n",
              "      background-color: #434B5C;\n",
              "      box-shadow: 0px 1px 3px 1px rgba(0, 0, 0, 0.15);\n",
              "      filter: drop-shadow(0px 1px 2px rgba(0, 0, 0, 0.3));\n",
              "      fill: #FFFFFF;\n",
              "    }\n",
              "  </style>\n",
              "\n",
              "      <script>\n",
              "        const buttonEl =\n",
              "          document.querySelector('#df-658b4ee4-f596-4a9e-af2a-8701957dca5f button.colab-df-convert');\n",
              "        buttonEl.style.display =\n",
              "          google.colab.kernel.accessAllowed ? 'block' : 'none';\n",
              "\n",
              "        async function convertToInteractive(key) {\n",
              "          const element = document.querySelector('#df-658b4ee4-f596-4a9e-af2a-8701957dca5f');\n",
              "          const dataTable =\n",
              "            await google.colab.kernel.invokeFunction('convertToInteractive',\n",
              "                                                     [key], {});\n",
              "          if (!dataTable) return;\n",
              "\n",
              "          const docLinkHtml = 'Like what you see? Visit the ' +\n",
              "            '<a target=\"_blank\" href=https://colab.research.google.com/notebooks/data_table.ipynb>data table notebook</a>'\n",
              "            + ' to learn more about interactive tables.';\n",
              "          element.innerHTML = '';\n",
              "          dataTable['output_type'] = 'display_data';\n",
              "          await google.colab.output.renderOutput(dataTable, element);\n",
              "          const docLink = document.createElement('div');\n",
              "          docLink.innerHTML = docLinkHtml;\n",
              "          element.appendChild(docLink);\n",
              "        }\n",
              "      </script>\n",
              "    </div>\n",
              "  </div>\n",
              "  "
            ]
          },
          "metadata": {},
          "execution_count": 24
        }
      ]
    },
    {
      "cell_type": "code",
      "source": [
        "plt.hist(q2_3['Count'])\n",
        "plt.show() "
      ],
      "metadata": {
        "id": "JzBgWJNKoKAD",
        "outputId": "7fc58999-d196-4dd8-8587-4c52695ccc39",
        "colab": {
          "base_uri": "https://localhost:8080/",
          "height": 265
        }
      },
      "execution_count": 25,
      "outputs": [
        {
          "output_type": "display_data",
          "data": {
            "text/plain": [
              "<Figure size 432x288 with 1 Axes>"
            ],
            "image/png": "[encoded data removed]"
          },
          "metadata": {
            "needs_background": "light"
          }
        }
      ]
    },
    {
      "cell_type": "code",
      "source": [
        "plt.hist(q2['Count'])\n",
        "plt.show() "
      ],
      "metadata": {
        "id": "LoYrf8G5ofne",
        "outputId": "14caab18-1f89-4cb3-df6d-8a9d56baeaf5",
        "colab": {
          "base_uri": "https://localhost:8080/",
          "height": 265
        }
      },
      "execution_count": 26,
      "outputs": [
        {
          "output_type": "display_data",
          "data": {
            "text/plain": [
              "<Figure size 432x288 with 1 Axes>"
            ],
            "image/png": "[encoded data removed]"
          },
          "metadata": {
            "needs_background": "light"
          }
        }
      ]
    },
    {
      "cell_type": "markdown",
      "source": [
        "#### Filter the products with more than 100 ratings in a certain city."
      ],
      "metadata": {
        "id": "6U5IcSbnlX70"
      }
    },
    {
      "cell_type": "code",
      "source": [
        "q3 = data[data['Review_Rating'] > 0].groupby(['Product_Name', 'Delivery_Zip_Code'])['Review_Rating'].count().reset_index(name='Count')\n",
        "\n",
        "q3_2 = q3[q3['Count'] >= 10]\n",
        "\n",
        "q3_3 = q3_2.sort_values('Count', ascending=False)"
      ],
      "metadata": {
        "id": "XQ7JW1GiokVf"
      },
      "execution_count": 27,
      "outputs": []
    },
    {
      "cell_type": "code",
      "source": [
        "q3_3"
      ],
      "metadata": {
        "id": "og8qsE2GokaG",
        "outputId": "53a48db4-ab19-46e3-b801-4f3a4b34f5e1",
        "colab": {
          "base_uri": "https://localhost:8080/",
          "height": 424
        }
      },
      "execution_count": 28,
      "outputs": [
        {
          "output_type": "execute_result",
          "data": {
            "text/plain": [
              "      Product_Name  Delivery_Zip_Code  Count\n",
              "104   Fitbit large              75215    272\n",
              "166   Fitbit small              75215    269\n",
              "528           Sony              75215    226\n",
              "347       Logitech              75215    140\n",
              "589            VR7              75215    137\n",
              "..             ...                ...    ...\n",
              "473    Samsung s10              75379     10\n",
              "256            JBL              30386     10\n",
              "284            JBL              75210     10\n",
              "287            JBL              75231     10\n",
              "195  Harman Kardon              30381     10\n",
              "\n",
              "[477 rows x 3 columns]"
            ],
            "text/html": [
              "\n",
              "  <div id=\"df-c1116e4c-1266-44ae-a82a-a4685d9e6712\">\n",
              "    <div class=\"colab-df-container\">\n",
              "      <div>\n",
              "<style scoped>\n",
              "    .dataframe tbody tr th:only-of-type {\n",
              "        vertical-align: middle;\n",
              "    }\n",
              "\n",
              "    .dataframe tbody tr th {\n",
              "        vertical-align: top;\n",
              "    }\n",
              "\n",
              "    .dataframe thead th {\n",
              "        text-align: right;\n",
              "    }\n",
              "</style>\n",
              "<table border=\"1\" class=\"dataframe\">\n",
              "  <thead>\n",
              "    <tr style=\"text-align: right;\">\n",
              "      <th></th>\n",
              "      <th>Product_Name</th>\n",
              "      <th>Delivery_Zip_Code</th>\n",
              "      <th>Count</th>\n",
              "    </tr>\n",
              "  </thead>\n",
              "  <tbody>\n",
              "    <tr>\n",
              "      <th>104</th>\n",
              "      <td>Fitbit large</td>\n",
              "      <td>75215</td>\n",
              "      <td>272</td>\n",
              "    </tr>\n",
              "    <tr>\n",
              "      <th>166</th>\n",
              "      <td>Fitbit small</td>\n",
              "      <td>75215</td>\n",
              "      <td>269</td>\n",
              "    </tr>\n",
              "    <tr>\n",
              "      <th>528</th>\n",
              "      <td>Sony</td>\n",
              "      <td>75215</td>\n",
              "      <td>226</td>\n",
              "    </tr>\n",
              "    <tr>\n",
              "      <th>347</th>\n",
              "      <td>Logitech</td>\n",
              "      <td>75215</td>\n",
              "      <td>140</td>\n",
              "    </tr>\n",
              "    <tr>\n",
              "      <th>589</th>\n",
              "      <td>VR7</td>\n",
              "      <td>75215</td>\n",
              "      <td>137</td>\n",
              "    </tr>\n",
              "    <tr>\n",
              "      <th>...</th>\n",
              "      <td>...</td>\n",
              "      <td>...</td>\n",
              "      <td>...</td>\n",
              "    </tr>\n",
              "    <tr>\n",
              "      <th>473</th>\n",
              "      <td>Samsung s10</td>\n",
              "      <td>75379</td>\n",
              "      <td>10</td>\n",
              "    </tr>\n",
              "    <tr>\n",
              "      <th>256</th>\n",
              "      <td>JBL</td>\n",
              "      <td>30386</td>\n",
              "      <td>10</td>\n",
              "    </tr>\n",
              "    <tr>\n",
              "      <th>284</th>\n",
              "      <td>JBL</td>\n",
              "      <td>75210</td>\n",
              "      <td>10</td>\n",
              "    </tr>\n",
              "    <tr>\n",
              "      <th>287</th>\n",
              "      <td>JBL</td>\n",
              "      <td>75231</td>\n",
              "      <td>10</td>\n",
              "    </tr>\n",
              "    <tr>\n",
              "      <th>195</th>\n",
              "      <td>Harman Kardon</td>\n",
              "      <td>30381</td>\n",
              "      <td>10</td>\n",
              "    </tr>\n",
              "  </tbody>\n",
              "</table>\n",
              "<p>477 rows × 3 columns</p>\n",
              "</div>\n",
              "      <button class=\"colab-df-convert\" onclick=\"convertToInteractive('df-c1116e4c-1266-44ae-a82a-a4685d9e6712')\"\n",
              "              title=\"Convert this dataframe to an interactive table.\"\n",
              "              style=\"display:none;\">\n",
              "        \n",
              "  <svg xmlns=\"http://www.w3.org/2000/svg\" height=\"24px\"viewBox=\"0 0 24 24\"\n",
              "       width=\"24px\">\n",
              "    <path d=\"M0 0h24v24H0V0z\" fill=\"none\"/>\n",
              "    <path d=\"M18.56 5.44l.94 2.06.94-2.06 2.06-.94-2.06-.94-.94-2.06-.94 2.06-2.06.94zm-11 1L8.5 8.5l.94-2.06 2.06-.94-2.06-.94L8.5 2.5l-.94 2.06-2.06.94zm10 10l.94 2.06.94-2.06 2.06-.94-2.06-.94-.94-2.06-.94 2.06-2.06.94z\"/><path d=\"M17.41 7.96l-1.37-1.37c-.4-.4-.92-.59-1.43-.59-.52 0-1.04.2-1.43.59L10.3 9.45l-7.72 7.72c-.78.78-.78 2.05 0 2.83L4 21.41c.39.39.9.59 1.41.59.51 0 1.02-.2 1.41-.59l7.78-7.78 2.81-2.81c.8-.78.8-2.07 0-2.86zM5.41 20L4 18.59l7.72-7.72 1.47 1.35L5.41 20z\"/>\n",
              "  </svg>\n",
              "      </button>\n",
              "      \n",
              "  <style>\n",
              "    .colab-df-container {\n",
              "      display:flex;\n",
              "      flex-wrap:wrap;\n",
              "      gap: 12px;\n",
              "    }\n",
              "\n",
              "    .colab-df-convert {\n",
              "      background-color: #E8F0FE;\n",
              "      border: none;\n",
              "      border-radius: 50%;\n",
              "      cursor: pointer;\n",
              "      display: none;\n",
              "      fill: #1967D2;\n",
              "      height: 32px;\n",
              "      padding: 0 0 0 0;\n",
              "      width: 32px;\n",
              "    }\n",
              "\n",
              "    .colab-df-convert:hover {\n",
              "      background-color: #E2EBFA;\n",
              "      box-shadow: 0px 1px 2px rgba(60, 64, 67, 0.3), 0px 1px 3px 1px rgba(60, 64, 67, 0.15);\n",
              "      fill: #174EA6;\n",
              "    }\n",
              "\n",
              "    [theme=dark] .colab-df-convert {\n",
              "      background-color: #3B4455;\n",
              "      fill: #D2E3FC;\n",
              "    }\n",
              "\n",
              "    [theme=dark] .colab-df-convert:hover {\n",
              "      background-color: #434B5C;\n",
              "      box-shadow: 0px 1px 3px 1px rgba(0, 0, 0, 0.15);\n",
              "      filter: drop-shadow(0px 1px 2px rgba(0, 0, 0, 0.3));\n",
              "      fill: #FFFFFF;\n",
              "    }\n",
              "  </style>\n",
              "\n",
              "      <script>\n",
              "        const buttonEl =\n",
              "          document.querySelector('#df-c1116e4c-1266-44ae-a82a-a4685d9e6712 button.colab-df-convert');\n",
              "        buttonEl.style.display =\n",
              "          google.colab.kernel.accessAllowed ? 'block' : 'none';\n",
              "\n",
              "        async function convertToInteractive(key) {\n",
              "          const element = document.querySelector('#df-c1116e4c-1266-44ae-a82a-a4685d9e6712');\n",
              "          const dataTable =\n",
              "            await google.colab.kernel.invokeFunction('convertToInteractive',\n",
              "                                                     [key], {});\n",
              "          if (!dataTable) return;\n",
              "\n",
              "          const docLinkHtml = 'Like what you see? Visit the ' +\n",
              "            '<a target=\"_blank\" href=https://colab.research.google.com/notebooks/data_table.ipynb>data table notebook</a>'\n",
              "            + ' to learn more about interactive tables.';\n",
              "          element.innerHTML = '';\n",
              "          dataTable['output_type'] = 'display_data';\n",
              "          await google.colab.output.renderOutput(dataTable, element);\n",
              "          const docLink = document.createElement('div');\n",
              "          docLink.innerHTML = docLinkHtml;\n",
              "          element.appendChild(docLink);\n",
              "        }\n",
              "      </script>\n",
              "    </div>\n",
              "  </div>\n",
              "  "
            ]
          },
          "metadata": {},
          "execution_count": 28
        }
      ]
    },
    {
      "cell_type": "markdown",
      "source": [
        "#### Filter the customers that have rated more than 10 products in a certain zip-code."
      ],
      "metadata": {
        "id": "80q0CWOalYBL"
      }
    },
    {
      "cell_type": "code",
      "source": [
        "q4 = data[data['Review_Rating'] > 0].groupby(['CustomerID', 'Delivery_Zip_Code'])['Review_Rating'].count().reset_index(name='Count')\n",
        "\n",
        "q4_2 = q4[q4['Count'] >= 10]\n",
        "\n",
        "q4_3 = q4_2.sort_values('Count', ascending=False)"
      ],
      "metadata": {
        "id": "D7hYFUK6pRZI"
      },
      "execution_count": 29,
      "outputs": []
    },
    {
      "cell_type": "code",
      "source": [
        "# We don't have any customers that have reviewed more than 10 products delievered to the same zip-code. Our max amount of reviewers per \n",
        "# customer per delievery zip code is 5.\n",
        "q4_3"
      ],
      "metadata": {
        "id": "aeQXYsMPpRcU",
        "outputId": "458de57a-5036-490a-d444-f9b393bdd275",
        "colab": {
          "base_uri": "https://localhost:8080/",
          "height": 49
        }
      },
      "execution_count": 30,
      "outputs": [
        {
          "output_type": "execute_result",
          "data": {
            "text/plain": [
              "Empty DataFrame\n",
              "Columns: [CustomerID, Delivery_Zip_Code, Count]\n",
              "Index: []"
            ],
            "text/html": [
              "\n",
              "  <div id=\"df-5afbe0f8-ec63-4827-a9ef-28328ce009aa\">\n",
              "    <div class=\"colab-df-container\">\n",
              "      <div>\n",
              "<style scoped>\n",
              "    .dataframe tbody tr th:only-of-type {\n",
              "        vertical-align: middle;\n",
              "    }\n",
              "\n",
              "    .dataframe tbody tr th {\n",
              "        vertical-align: top;\n",
              "    }\n",
              "\n",
              "    .dataframe thead th {\n",
              "        text-align: right;\n",
              "    }\n",
              "</style>\n",
              "<table border=\"1\" class=\"dataframe\">\n",
              "  <thead>\n",
              "    <tr style=\"text-align: right;\">\n",
              "      <th></th>\n",
              "      <th>CustomerID</th>\n",
              "      <th>Delivery_Zip_Code</th>\n",
              "      <th>Count</th>\n",
              "    </tr>\n",
              "  </thead>\n",
              "  <tbody>\n",
              "  </tbody>\n",
              "</table>\n",
              "</div>\n",
              "      <button class=\"colab-df-convert\" onclick=\"convertToInteractive('df-5afbe0f8-ec63-4827-a9ef-28328ce009aa')\"\n",
              "              title=\"Convert this dataframe to an interactive table.\"\n",
              "              style=\"display:none;\">\n",
              "        \n",
              "  <svg xmlns=\"http://www.w3.org/2000/svg\" height=\"24px\"viewBox=\"0 0 24 24\"\n",
              "       width=\"24px\">\n",
              "    <path d=\"M0 0h24v24H0V0z\" fill=\"none\"/>\n",
              "    <path d=\"M18.56 5.44l.94 2.06.94-2.06 2.06-.94-2.06-.94-.94-2.06-.94 2.06-2.06.94zm-11 1L8.5 8.5l.94-2.06 2.06-.94-2.06-.94L8.5 2.5l-.94 2.06-2.06.94zm10 10l.94 2.06.94-2.06 2.06-.94-2.06-.94-.94-2.06-.94 2.06-2.06.94z\"/><path d=\"M17.41 7.96l-1.37-1.37c-.4-.4-.92-.59-1.43-.59-.52 0-1.04.2-1.43.59L10.3 9.45l-7.72 7.72c-.78.78-.78 2.05 0 2.83L4 21.41c.39.39.9.59 1.41.59.51 0 1.02-.2 1.41-.59l7.78-7.78 2.81-2.81c.8-.78.8-2.07 0-2.86zM5.41 20L4 18.59l7.72-7.72 1.47 1.35L5.41 20z\"/>\n",
              "  </svg>\n",
              "      </button>\n",
              "      \n",
              "  <style>\n",
              "    .colab-df-container {\n",
              "      display:flex;\n",
              "      flex-wrap:wrap;\n",
              "      gap: 12px;\n",
              "    }\n",
              "\n",
              "    .colab-df-convert {\n",
              "      background-color: #E8F0FE;\n",
              "      border: none;\n",
              "      border-radius: 50%;\n",
              "      cursor: pointer;\n",
              "      display: none;\n",
              "      fill: #1967D2;\n",
              "      height: 32px;\n",
              "      padding: 0 0 0 0;\n",
              "      width: 32px;\n",
              "    }\n",
              "\n",
              "    .colab-df-convert:hover {\n",
              "      background-color: #E2EBFA;\n",
              "      box-shadow: 0px 1px 2px rgba(60, 64, 67, 0.3), 0px 1px 3px 1px rgba(60, 64, 67, 0.15);\n",
              "      fill: #174EA6;\n",
              "    }\n",
              "\n",
              "    [theme=dark] .colab-df-convert {\n",
              "      background-color: #3B4455;\n",
              "      fill: #D2E3FC;\n",
              "    }\n",
              "\n",
              "    [theme=dark] .colab-df-convert:hover {\n",
              "      background-color: #434B5C;\n",
              "      box-shadow: 0px 1px 3px 1px rgba(0, 0, 0, 0.15);\n",
              "      filter: drop-shadow(0px 1px 2px rgba(0, 0, 0, 0.3));\n",
              "      fill: #FFFFFF;\n",
              "    }\n",
              "  </style>\n",
              "\n",
              "      <script>\n",
              "        const buttonEl =\n",
              "          document.querySelector('#df-5afbe0f8-ec63-4827-a9ef-28328ce009aa button.colab-df-convert');\n",
              "        buttonEl.style.display =\n",
              "          google.colab.kernel.accessAllowed ? 'block' : 'none';\n",
              "\n",
              "        async function convertToInteractive(key) {\n",
              "          const element = document.querySelector('#df-5afbe0f8-ec63-4827-a9ef-28328ce009aa');\n",
              "          const dataTable =\n",
              "            await google.colab.kernel.invokeFunction('convertToInteractive',\n",
              "                                                     [key], {});\n",
              "          if (!dataTable) return;\n",
              "\n",
              "          const docLinkHtml = 'Like what you see? Visit the ' +\n",
              "            '<a target=\"_blank\" href=https://colab.research.google.com/notebooks/data_table.ipynb>data table notebook</a>'\n",
              "            + ' to learn more about interactive tables.';\n",
              "          element.innerHTML = '';\n",
              "          dataTable['output_type'] = 'display_data';\n",
              "          await google.colab.output.renderOutput(dataTable, element);\n",
              "          const docLink = document.createElement('div');\n",
              "          docLink.innerHTML = docLinkHtml;\n",
              "          element.appendChild(docLink);\n",
              "        }\n",
              "      </script>\n",
              "    </div>\n",
              "  </div>\n",
              "  "
            ]
          },
          "metadata": {},
          "execution_count": 30
        }
      ]
    },
    {
      "cell_type": "code",
      "source": [
        "plt.hist(q4['Count'])\n",
        "plt.show() "
      ],
      "metadata": {
        "id": "U35jc_W_pkDZ",
        "outputId": "9a2aa31d-0f4d-41c3-8e74-4a53521cfbdf",
        "colab": {
          "base_uri": "https://localhost:8080/",
          "height": 265
        }
      },
      "execution_count": 31,
      "outputs": [
        {
          "output_type": "display_data",
          "data": {
            "text/plain": [
              "<Figure size 432x288 with 1 Axes>"
            ],
            "image/png": "[encoded data removed]"
          },
          "metadata": {
            "needs_background": "light"
          }
        }
      ]
    },
    {
      "cell_type": "markdown",
      "source": [
        "#### Exclude products that are in the top 5 highest product returns from the dataset used to build the recommender system."
      ],
      "metadata": {
        "id": "McO-_0z8lYH_"
      }
    },
    {
      "cell_type": "code",
      "source": [
        "q5 = data[data['Order_Returned'] == 1].groupby(['Product_Name'])['OrderID'].count().reset_index(name='Count')\n",
        "\n",
        "q5_2 = q5.sort_values('Count', ascending=False)\n",
        "\n",
        "q5_3 = q5_2.iloc[:, 5:]"
      ],
      "metadata": {
        "id": "HfdhzP0ilSNj"
      },
      "execution_count": 32,
      "outputs": []
    },
    {
      "cell_type": "code",
      "source": [
        "# We only have 4 products that have been returned in the data set provided.\n",
        "q5_3"
      ],
      "metadata": {
        "id": "2on0rqs6q2Hq",
        "outputId": "1b0c83bb-668c-49bb-dcd3-cc28c668a3a0",
        "colab": {
          "base_uri": "https://localhost:8080/",
          "height": 189
        }
      },
      "execution_count": 33,
      "outputs": [
        {
          "output_type": "execute_result",
          "data": {
            "text/plain": [
              "Empty DataFrame\n",
              "Columns: []\n",
              "Index: [0, 1, 2, 3, 4]"
            ],
            "text/html": [
              "\n",
              "  <div id=\"df-234eb006-d700-4971-82e1-86807ad9ca06\">\n",
              "    <div class=\"colab-df-container\">\n",
              "      <div>\n",
              "<style scoped>\n",
              "    .dataframe tbody tr th:only-of-type {\n",
              "        vertical-align: middle;\n",
              "    }\n",
              "\n",
              "    .dataframe tbody tr th {\n",
              "        vertical-align: top;\n",
              "    }\n",
              "\n",
              "    .dataframe thead th {\n",
              "        text-align: right;\n",
              "    }\n",
              "</style>\n",
              "<table border=\"1\" class=\"dataframe\">\n",
              "  <thead>\n",
              "    <tr style=\"text-align: right;\">\n",
              "      <th></th>\n",
              "    </tr>\n",
              "  </thead>\n",
              "  <tbody>\n",
              "    <tr>\n",
              "      <th>0</th>\n",
              "    </tr>\n",
              "    <tr>\n",
              "      <th>1</th>\n",
              "    </tr>\n",
              "    <tr>\n",
              "      <th>2</th>\n",
              "    </tr>\n",
              "    <tr>\n",
              "      <th>3</th>\n",
              "    </tr>\n",
              "    <tr>\n",
              "      <th>4</th>\n",
              "    </tr>\n",
              "  </tbody>\n",
              "</table>\n",
              "</div>\n",
              "      <button class=\"colab-df-convert\" onclick=\"convertToInteractive('df-234eb006-d700-4971-82e1-86807ad9ca06')\"\n",
              "              title=\"Convert this dataframe to an interactive table.\"\n",
              "              style=\"display:none;\">\n",
              "        \n",
              "  <svg xmlns=\"http://www.w3.org/2000/svg\" height=\"24px\"viewBox=\"0 0 24 24\"\n",
              "       width=\"24px\">\n",
              "    <path d=\"M0 0h24v24H0V0z\" fill=\"none\"/>\n",
              "    <path d=\"M18.56 5.44l.94 2.06.94-2.06 2.06-.94-2.06-.94-.94-2.06-.94 2.06-2.06.94zm-11 1L8.5 8.5l.94-2.06 2.06-.94-2.06-.94L8.5 2.5l-.94 2.06-2.06.94zm10 10l.94 2.06.94-2.06 2.06-.94-2.06-.94-.94-2.06-.94 2.06-2.06.94z\"/><path d=\"M17.41 7.96l-1.37-1.37c-.4-.4-.92-.59-1.43-.59-.52 0-1.04.2-1.43.59L10.3 9.45l-7.72 7.72c-.78.78-.78 2.05 0 2.83L4 21.41c.39.39.9.59 1.41.59.51 0 1.02-.2 1.41-.59l7.78-7.78 2.81-2.81c.8-.78.8-2.07 0-2.86zM5.41 20L4 18.59l7.72-7.72 1.47 1.35L5.41 20z\"/>\n",
              "  </svg>\n",
              "      </button>\n",
              "      \n",
              "  <style>\n",
              "    .colab-df-container {\n",
              "      display:flex;\n",
              "      flex-wrap:wrap;\n",
              "      gap: 12px;\n",
              "    }\n",
              "\n",
              "    .colab-df-convert {\n",
              "      background-color: #E8F0FE;\n",
              "      border: none;\n",
              "      border-radius: 50%;\n",
              "      cursor: pointer;\n",
              "      display: none;\n",
              "      fill: #1967D2;\n",
              "      height: 32px;\n",
              "      padding: 0 0 0 0;\n",
              "      width: 32px;\n",
              "    }\n",
              "\n",
              "    .colab-df-convert:hover {\n",
              "      background-color: #E2EBFA;\n",
              "      box-shadow: 0px 1px 2px rgba(60, 64, 67, 0.3), 0px 1px 3px 1px rgba(60, 64, 67, 0.15);\n",
              "      fill: #174EA6;\n",
              "    }\n",
              "\n",
              "    [theme=dark] .colab-df-convert {\n",
              "      background-color: #3B4455;\n",
              "      fill: #D2E3FC;\n",
              "    }\n",
              "\n",
              "    [theme=dark] .colab-df-convert:hover {\n",
              "      background-color: #434B5C;\n",
              "      box-shadow: 0px 1px 3px 1px rgba(0, 0, 0, 0.15);\n",
              "      filter: drop-shadow(0px 1px 2px rgba(0, 0, 0, 0.3));\n",
              "      fill: #FFFFFF;\n",
              "    }\n",
              "  </style>\n",
              "\n",
              "      <script>\n",
              "        const buttonEl =\n",
              "          document.querySelector('#df-234eb006-d700-4971-82e1-86807ad9ca06 button.colab-df-convert');\n",
              "        buttonEl.style.display =\n",
              "          google.colab.kernel.accessAllowed ? 'block' : 'none';\n",
              "\n",
              "        async function convertToInteractive(key) {\n",
              "          const element = document.querySelector('#df-234eb006-d700-4971-82e1-86807ad9ca06');\n",
              "          const dataTable =\n",
              "            await google.colab.kernel.invokeFunction('convertToInteractive',\n",
              "                                                     [key], {});\n",
              "          if (!dataTable) return;\n",
              "\n",
              "          const docLinkHtml = 'Like what you see? Visit the ' +\n",
              "            '<a target=\"_blank\" href=https://colab.research.google.com/notebooks/data_table.ipynb>data table notebook</a>'\n",
              "            + ' to learn more about interactive tables.';\n",
              "          element.innerHTML = '';\n",
              "          dataTable['output_type'] = 'display_data';\n",
              "          await google.colab.output.renderOutput(dataTable, element);\n",
              "          const docLink = document.createElement('div');\n",
              "          docLink.innerHTML = docLinkHtml;\n",
              "          element.appendChild(docLink);\n",
              "        }\n",
              "      </script>\n",
              "    </div>\n",
              "  </div>\n",
              "  "
            ]
          },
          "metadata": {},
          "execution_count": 33
        }
      ]
    },
    {
      "cell_type": "code",
      "source": [
        "q5_2"
      ],
      "metadata": {
        "id": "at9E1xomqrOo",
        "outputId": "552e3218-9570-4a0a-933a-d4fb9bae49cc",
        "colab": {
          "base_uri": "https://localhost:8080/",
          "height": 206
        }
      },
      "execution_count": 34,
      "outputs": [
        {
          "output_type": "execute_result",
          "data": {
            "text/plain": [
              "    Product_Name  Count\n",
              "0   Fitbit small   2904\n",
              "1  Harman Kardon   1445\n",
              "2            JBL    910\n",
              "3          Redmi    910\n",
              "4    Samsung s10    910"
            ],
            "text/html": [
              "\n",
              "  <div id=\"df-a6165241-4bbb-44a8-8e48-d622b3c47ebd\">\n",
              "    <div class=\"colab-df-container\">\n",
              "      <div>\n",
              "<style scoped>\n",
              "    .dataframe tbody tr th:only-of-type {\n",
              "        vertical-align: middle;\n",
              "    }\n",
              "\n",
              "    .dataframe tbody tr th {\n",
              "        vertical-align: top;\n",
              "    }\n",
              "\n",
              "    .dataframe thead th {\n",
              "        text-align: right;\n",
              "    }\n",
              "</style>\n",
              "<table border=\"1\" class=\"dataframe\">\n",
              "  <thead>\n",
              "    <tr style=\"text-align: right;\">\n",
              "      <th></th>\n",
              "      <th>Product_Name</th>\n",
              "      <th>Count</th>\n",
              "    </tr>\n",
              "  </thead>\n",
              "  <tbody>\n",
              "    <tr>\n",
              "      <th>0</th>\n",
              "      <td>Fitbit small</td>\n",
              "      <td>2904</td>\n",
              "    </tr>\n",
              "    <tr>\n",
              "      <th>1</th>\n",
              "      <td>Harman Kardon</td>\n",
              "      <td>1445</td>\n",
              "    </tr>\n",
              "    <tr>\n",
              "      <th>2</th>\n",
              "      <td>JBL</td>\n",
              "      <td>910</td>\n",
              "    </tr>\n",
              "    <tr>\n",
              "      <th>3</th>\n",
              "      <td>Redmi</td>\n",
              "      <td>910</td>\n",
              "    </tr>\n",
              "    <tr>\n",
              "      <th>4</th>\n",
              "      <td>Samsung s10</td>\n",
              "      <td>910</td>\n",
              "    </tr>\n",
              "  </tbody>\n",
              "</table>\n",
              "</div>\n",
              "      <button class=\"colab-df-convert\" onclick=\"convertToInteractive('df-a6165241-4bbb-44a8-8e48-d622b3c47ebd')\"\n",
              "              title=\"Convert this dataframe to an interactive table.\"\n",
              "              style=\"display:none;\">\n",
              "        \n",
              "  <svg xmlns=\"http://www.w3.org/2000/svg\" height=\"24px\"viewBox=\"0 0 24 24\"\n",
              "       width=\"24px\">\n",
              "    <path d=\"M0 0h24v24H0V0z\" fill=\"none\"/>\n",
              "    <path d=\"M18.56 5.44l.94 2.06.94-2.06 2.06-.94-2.06-.94-.94-2.06-.94 2.06-2.06.94zm-11 1L8.5 8.5l.94-2.06 2.06-.94-2.06-.94L8.5 2.5l-.94 2.06-2.06.94zm10 10l.94 2.06.94-2.06 2.06-.94-2.06-.94-.94-2.06-.94 2.06-2.06.94z\"/><path d=\"M17.41 7.96l-1.37-1.37c-.4-.4-.92-.59-1.43-.59-.52 0-1.04.2-1.43.59L10.3 9.45l-7.72 7.72c-.78.78-.78 2.05 0 2.83L4 21.41c.39.39.9.59 1.41.59.51 0 1.02-.2 1.41-.59l7.78-7.78 2.81-2.81c.8-.78.8-2.07 0-2.86zM5.41 20L4 18.59l7.72-7.72 1.47 1.35L5.41 20z\"/>\n",
              "  </svg>\n",
              "      </button>\n",
              "      \n",
              "  <style>\n",
              "    .colab-df-container {\n",
              "      display:flex;\n",
              "      flex-wrap:wrap;\n",
              "      gap: 12px;\n",
              "    }\n",
              "\n",
              "    .colab-df-convert {\n",
              "      background-color: #E8F0FE;\n",
              "      border: none;\n",
              "      border-radius: 50%;\n",
              "      cursor: pointer;\n",
              "      display: none;\n",
              "      fill: #1967D2;\n",
              "      height: 32px;\n",
              "      padding: 0 0 0 0;\n",
              "      width: 32px;\n",
              "    }\n",
              "\n",
              "    .colab-df-convert:hover {\n",
              "      background-color: #E2EBFA;\n",
              "      box-shadow: 0px 1px 2px rgba(60, 64, 67, 0.3), 0px 1px 3px 1px rgba(60, 64, 67, 0.15);\n",
              "      fill: #174EA6;\n",
              "    }\n",
              "\n",
              "    [theme=dark] .colab-df-convert {\n",
              "      background-color: #3B4455;\n",
              "      fill: #D2E3FC;\n",
              "    }\n",
              "\n",
              "    [theme=dark] .colab-df-convert:hover {\n",
              "      background-color: #434B5C;\n",
              "      box-shadow: 0px 1px 3px 1px rgba(0, 0, 0, 0.15);\n",
              "      filter: drop-shadow(0px 1px 2px rgba(0, 0, 0, 0.3));\n",
              "      fill: #FFFFFF;\n",
              "    }\n",
              "  </style>\n",
              "\n",
              "      <script>\n",
              "        const buttonEl =\n",
              "          document.querySelector('#df-a6165241-4bbb-44a8-8e48-d622b3c47ebd button.colab-df-convert');\n",
              "        buttonEl.style.display =\n",
              "          google.colab.kernel.accessAllowed ? 'block' : 'none';\n",
              "\n",
              "        async function convertToInteractive(key) {\n",
              "          const element = document.querySelector('#df-a6165241-4bbb-44a8-8e48-d622b3c47ebd');\n",
              "          const dataTable =\n",
              "            await google.colab.kernel.invokeFunction('convertToInteractive',\n",
              "                                                     [key], {});\n",
              "          if (!dataTable) return;\n",
              "\n",
              "          const docLinkHtml = 'Like what you see? Visit the ' +\n",
              "            '<a target=\"_blank\" href=https://colab.research.google.com/notebooks/data_table.ipynb>data table notebook</a>'\n",
              "            + ' to learn more about interactive tables.';\n",
              "          element.innerHTML = '';\n",
              "          dataTable['output_type'] = 'display_data';\n",
              "          await google.colab.output.renderOutput(dataTable, element);\n",
              "          const docLink = document.createElement('div');\n",
              "          docLink.innerHTML = docLinkHtml;\n",
              "          element.appendChild(docLink);\n",
              "        }\n",
              "      </script>\n",
              "    </div>\n",
              "  </div>\n",
              "  "
            ]
          },
          "metadata": {},
          "execution_count": 34
        }
      ]
    },
    {
      "cell_type": "markdown",
      "source": [
        "## Data Preparation - SVD"
      ],
      "metadata": {
        "id": "Cm8VvJFkt97V"
      }
    },
    {
      "cell_type": "code",
      "source": [
        "df = pd.DataFrame()\n",
        "df['user'] = data['CustomerID'].astype(str)\n",
        "df['item'] = data['Product_Name'].astype(str)\n",
        "df['rating'] = data['Review_Rating'].astype(int)\n",
        "df = df.dropna()\n",
        "df.head()"
      ],
      "metadata": {
        "id": "DkMVvEwduHXs",
        "outputId": "37f79c3c-8f17-4704-c3e9-fd14fbb1c724",
        "colab": {
          "base_uri": "https://localhost:8080/",
          "height": 206
        }
      },
      "execution_count": 4,
      "outputs": [
        {
          "output_type": "execute_result",
          "data": {
            "text/plain": [
              "          user          item  rating\n",
              "0  566-26-0321  Fitbit small       3\n",
              "1  274-18-0017  Fitbit small       3\n",
              "2  455-28-7950  Fitbit small       3\n",
              "3  254-72-5938  Fitbit large       5\n",
              "4  563-47-8401  Fitbit large       5"
            ],
            "text/html": [
              "\n",
              "  <div id=\"df-60ccf975-cf69-4591-b2d5-51cbe7fa3739\">\n",
              "    <div class=\"colab-df-container\">\n",
              "      <div>\n",
              "<style scoped>\n",
              "    .dataframe tbody tr th:only-of-type {\n",
              "        vertical-align: middle;\n",
              "    }\n",
              "\n",
              "    .dataframe tbody tr th {\n",
              "        vertical-align: top;\n",
              "    }\n",
              "\n",
              "    .dataframe thead th {\n",
              "        text-align: right;\n",
              "    }\n",
              "</style>\n",
              "<table border=\"1\" class=\"dataframe\">\n",
              "  <thead>\n",
              "    <tr style=\"text-align: right;\">\n",
              "      <th></th>\n",
              "      <th>user</th>\n",
              "      <th>item</th>\n",
              "      <th>rating</th>\n",
              "    </tr>\n",
              "  </thead>\n",
              "  <tbody>\n",
              "    <tr>\n",
              "      <th>0</th>\n",
              "      <td>566-26-0321</td>\n",
              "      <td>Fitbit small</td>\n",
              "      <td>3</td>\n",
              "    </tr>\n",
              "    <tr>\n",
              "      <th>1</th>\n",
              "      <td>274-18-0017</td>\n",
              "      <td>Fitbit small</td>\n",
              "      <td>3</td>\n",
              "    </tr>\n",
              "    <tr>\n",
              "      <th>2</th>\n",
              "      <td>455-28-7950</td>\n",
              "      <td>Fitbit small</td>\n",
              "      <td>3</td>\n",
              "    </tr>\n",
              "    <tr>\n",
              "      <th>3</th>\n",
              "      <td>254-72-5938</td>\n",
              "      <td>Fitbit large</td>\n",
              "      <td>5</td>\n",
              "    </tr>\n",
              "    <tr>\n",
              "      <th>4</th>\n",
              "      <td>563-47-8401</td>\n",
              "      <td>Fitbit large</td>\n",
              "      <td>5</td>\n",
              "    </tr>\n",
              "  </tbody>\n",
              "</table>\n",
              "</div>\n",
              "      <button class=\"colab-df-convert\" onclick=\"convertToInteractive('df-60ccf975-cf69-4591-b2d5-51cbe7fa3739')\"\n",
              "              title=\"Convert this dataframe to an interactive table.\"\n",
              "              style=\"display:none;\">\n",
              "        \n",
              "  <svg xmlns=\"http://www.w3.org/2000/svg\" height=\"24px\"viewBox=\"0 0 24 24\"\n",
              "       width=\"24px\">\n",
              "    <path d=\"M0 0h24v24H0V0z\" fill=\"none\"/>\n",
              "    <path d=\"M18.56 5.44l.94 2.06.94-2.06 2.06-.94-2.06-.94-.94-2.06-.94 2.06-2.06.94zm-11 1L8.5 8.5l.94-2.06 2.06-.94-2.06-.94L8.5 2.5l-.94 2.06-2.06.94zm10 10l.94 2.06.94-2.06 2.06-.94-2.06-.94-.94-2.06-.94 2.06-2.06.94z\"/><path d=\"M17.41 7.96l-1.37-1.37c-.4-.4-.92-.59-1.43-.59-.52 0-1.04.2-1.43.59L10.3 9.45l-7.72 7.72c-.78.78-.78 2.05 0 2.83L4 21.41c.39.39.9.59 1.41.59.51 0 1.02-.2 1.41-.59l7.78-7.78 2.81-2.81c.8-.78.8-2.07 0-2.86zM5.41 20L4 18.59l7.72-7.72 1.47 1.35L5.41 20z\"/>\n",
              "  </svg>\n",
              "      </button>\n",
              "      \n",
              "  <style>\n",
              "    .colab-df-container {\n",
              "      display:flex;\n",
              "      flex-wrap:wrap;\n",
              "      gap: 12px;\n",
              "    }\n",
              "\n",
              "    .colab-df-convert {\n",
              "      background-color: #E8F0FE;\n",
              "      border: none;\n",
              "      border-radius: 50%;\n",
              "      cursor: pointer;\n",
              "      display: none;\n",
              "      fill: #1967D2;\n",
              "      height: 32px;\n",
              "      padding: 0 0 0 0;\n",
              "      width: 32px;\n",
              "    }\n",
              "\n",
              "    .colab-df-convert:hover {\n",
              "      background-color: #E2EBFA;\n",
              "      box-shadow: 0px 1px 2px rgba(60, 64, 67, 0.3), 0px 1px 3px 1px rgba(60, 64, 67, 0.15);\n",
              "      fill: #174EA6;\n",
              "    }\n",
              "\n",
              "    [theme=dark] .colab-df-convert {\n",
              "      background-color: #3B4455;\n",
              "      fill: #D2E3FC;\n",
              "    }\n",
              "\n",
              "    [theme=dark] .colab-df-convert:hover {\n",
              "      background-color: #434B5C;\n",
              "      box-shadow: 0px 1px 3px 1px rgba(0, 0, 0, 0.15);\n",
              "      filter: drop-shadow(0px 1px 2px rgba(0, 0, 0, 0.3));\n",
              "      fill: #FFFFFF;\n",
              "    }\n",
              "  </style>\n",
              "\n",
              "      <script>\n",
              "        const buttonEl =\n",
              "          document.querySelector('#df-60ccf975-cf69-4591-b2d5-51cbe7fa3739 button.colab-df-convert');\n",
              "        buttonEl.style.display =\n",
              "          google.colab.kernel.accessAllowed ? 'block' : 'none';\n",
              "\n",
              "        async function convertToInteractive(key) {\n",
              "          const element = document.querySelector('#df-60ccf975-cf69-4591-b2d5-51cbe7fa3739');\n",
              "          const dataTable =\n",
              "            await google.colab.kernel.invokeFunction('convertToInteractive',\n",
              "                                                     [key], {});\n",
              "          if (!dataTable) return;\n",
              "\n",
              "          const docLinkHtml = 'Like what you see? Visit the ' +\n",
              "            '<a target=\"_blank\" href=https://colab.research.google.com/notebooks/data_table.ipynb>data table notebook</a>'\n",
              "            + ' to learn more about interactive tables.';\n",
              "          element.innerHTML = '';\n",
              "          dataTable['output_type'] = 'display_data';\n",
              "          await google.colab.output.renderOutput(dataTable, element);\n",
              "          const docLink = document.createElement('div');\n",
              "          docLink.innerHTML = docLinkHtml;\n",
              "          element.appendChild(docLink);\n",
              "        }\n",
              "      </script>\n",
              "    </div>\n",
              "  </div>\n",
              "  "
            ]
          },
          "metadata": {},
          "execution_count": 4
        }
      ]
    },
    {
      "cell_type": "code",
      "source": [
        "df.to_csv('transaction_train.csv', index=False)\n",
        "\n",
        "with open(\"transaction_train.csv\", \"r\") as f:\n",
        "    reader = csv.DictReader(f, delimiter=',')\n",
        "    with open(\"transaction_test.csv\", \"w\",newline='') as f_out:\n",
        "        writer = csv.DictWriter(f_out, fieldnames=reader.fieldnames, delimiter=\",\")\n",
        "        for row in reader:\n",
        "            writer.writerow(row)"
      ],
      "metadata": {
        "id": "UD-G0inGuHkY"
      },
      "execution_count": 36,
      "outputs": []
    },
    {
      "cell_type": "markdown",
      "source": [
        "## Data Preparation - Neural Net"
      ],
      "metadata": {
        "id": "4C_VI536QsSY"
      }
    },
    {
      "cell_type": "code",
      "source": [
        "df_tf = df.copy()"
      ],
      "metadata": {
        "id": "DOR_5UZuT9lY"
      },
      "execution_count": 5,
      "outputs": []
    },
    {
      "cell_type": "code",
      "source": [
        "# Vectorization\n",
        "ord_enc = OrdinalEncoder()\n",
        "df_tf[\"item_encoded\"] = ord_enc.fit_transform(df_tf[[\"item\"]]).astype(int)\n",
        "df_tf[\"item_encoded\"] = df_tf[\"item_encoded\"].apply(lambda x:(x+1))\n",
        "df_tf[\"item_encoded\"] = df_tf[\"item_encoded\"]/max(df_tf[\"item_encoded\"])\n",
        "\n",
        "df_tf['user'] = df_tf['user'].replace('-', '', regex=True).astype(int)\n",
        "df_tf['user_encoded'] = df_tf['user']/max(df_tf['user'])\n",
        "\n",
        "df_tf['rating_encoded'] = df_tf['rating']/max(df_tf['rating'])\n",
        "\n",
        "df_tf_input = df_tf[['user_encoded', 'item_encoded', 'rating_encoded']]\n",
        "df_tf_input.head()"
      ],
      "metadata": {
        "id": "gmwVfxxCT9sp",
        "outputId": "484408ce-f68e-457a-d953-46f695334e34",
        "colab": {
          "base_uri": "https://localhost:8080/",
          "height": 206
        }
      },
      "execution_count": 6,
      "outputs": [
        {
          "output_type": "execute_result",
          "data": {
            "text/plain": [
              "   user_encoded  item_encoded  rating_encoded\n",
              "0      0.629502           0.3             0.6\n",
              "1      0.304801           0.3             0.6\n",
              "2      0.506136           0.3             0.6\n",
              "3      0.283174           0.2             1.0\n",
              "4      0.626409           0.2             1.0"
            ],
            "text/html": [
              "\n",
              "  <div id=\"df-3d8769f2-571c-48a6-a935-062a0293236d\">\n",
              "    <div class=\"colab-df-container\">\n",
              "      <div>\n",
              "<style scoped>\n",
              "    .dataframe tbody tr th:only-of-type {\n",
              "        vertical-align: middle;\n",
              "    }\n",
              "\n",
              "    .dataframe tbody tr th {\n",
              "        vertical-align: top;\n",
              "    }\n",
              "\n",
              "    .dataframe thead th {\n",
              "        text-align: right;\n",
              "    }\n",
              "</style>\n",
              "<table border=\"1\" class=\"dataframe\">\n",
              "  <thead>\n",
              "    <tr style=\"text-align: right;\">\n",
              "      <th></th>\n",
              "      <th>user_encoded</th>\n",
              "      <th>item_encoded</th>\n",
              "      <th>rating_encoded</th>\n",
              "    </tr>\n",
              "  </thead>\n",
              "  <tbody>\n",
              "    <tr>\n",
              "      <th>0</th>\n",
              "      <td>0.629502</td>\n",
              "      <td>0.3</td>\n",
              "      <td>0.6</td>\n",
              "    </tr>\n",
              "    <tr>\n",
              "      <th>1</th>\n",
              "      <td>0.304801</td>\n",
              "      <td>0.3</td>\n",
              "      <td>0.6</td>\n",
              "    </tr>\n",
              "    <tr>\n",
              "      <th>2</th>\n",
              "      <td>0.506136</td>\n",
              "      <td>0.3</td>\n",
              "      <td>0.6</td>\n",
              "    </tr>\n",
              "    <tr>\n",
              "      <th>3</th>\n",
              "      <td>0.283174</td>\n",
              "      <td>0.2</td>\n",
              "      <td>1.0</td>\n",
              "    </tr>\n",
              "    <tr>\n",
              "      <th>4</th>\n",
              "      <td>0.626409</td>\n",
              "      <td>0.2</td>\n",
              "      <td>1.0</td>\n",
              "    </tr>\n",
              "  </tbody>\n",
              "</table>\n",
              "</div>\n",
              "      <button class=\"colab-df-convert\" onclick=\"convertToInteractive('df-3d8769f2-571c-48a6-a935-062a0293236d')\"\n",
              "              title=\"Convert this dataframe to an interactive table.\"\n",
              "              style=\"display:none;\">\n",
              "        \n",
              "  <svg xmlns=\"http://www.w3.org/2000/svg\" height=\"24px\"viewBox=\"0 0 24 24\"\n",
              "       width=\"24px\">\n",
              "    <path d=\"M0 0h24v24H0V0z\" fill=\"none\"/>\n",
              "    <path d=\"M18.56 5.44l.94 2.06.94-2.06 2.06-.94-2.06-.94-.94-2.06-.94 2.06-2.06.94zm-11 1L8.5 8.5l.94-2.06 2.06-.94-2.06-.94L8.5 2.5l-.94 2.06-2.06.94zm10 10l.94 2.06.94-2.06 2.06-.94-2.06-.94-.94-2.06-.94 2.06-2.06.94z\"/><path d=\"M17.41 7.96l-1.37-1.37c-.4-.4-.92-.59-1.43-.59-.52 0-1.04.2-1.43.59L10.3 9.45l-7.72 7.72c-.78.78-.78 2.05 0 2.83L4 21.41c.39.39.9.59 1.41.59.51 0 1.02-.2 1.41-.59l7.78-7.78 2.81-2.81c.8-.78.8-2.07 0-2.86zM5.41 20L4 18.59l7.72-7.72 1.47 1.35L5.41 20z\"/>\n",
              "  </svg>\n",
              "      </button>\n",
              "      \n",
              "  <style>\n",
              "    .colab-df-container {\n",
              "      display:flex;\n",
              "      flex-wrap:wrap;\n",
              "      gap: 12px;\n",
              "    }\n",
              "\n",
              "    .colab-df-convert {\n",
              "      background-color: #E8F0FE;\n",
              "      border: none;\n",
              "      border-radius: 50%;\n",
              "      cursor: pointer;\n",
              "      display: none;\n",
              "      fill: #1967D2;\n",
              "      height: 32px;\n",
              "      padding: 0 0 0 0;\n",
              "      width: 32px;\n",
              "    }\n",
              "\n",
              "    .colab-df-convert:hover {\n",
              "      background-color: #E2EBFA;\n",
              "      box-shadow: 0px 1px 2px rgba(60, 64, 67, 0.3), 0px 1px 3px 1px rgba(60, 64, 67, 0.15);\n",
              "      fill: #174EA6;\n",
              "    }\n",
              "\n",
              "    [theme=dark] .colab-df-convert {\n",
              "      background-color: #3B4455;\n",
              "      fill: #D2E3FC;\n",
              "    }\n",
              "\n",
              "    [theme=dark] .colab-df-convert:hover {\n",
              "      background-color: #434B5C;\n",
              "      box-shadow: 0px 1px 3px 1px rgba(0, 0, 0, 0.15);\n",
              "      filter: drop-shadow(0px 1px 2px rgba(0, 0, 0, 0.3));\n",
              "      fill: #FFFFFF;\n",
              "    }\n",
              "  </style>\n",
              "\n",
              "      <script>\n",
              "        const buttonEl =\n",
              "          document.querySelector('#df-3d8769f2-571c-48a6-a935-062a0293236d button.colab-df-convert');\n",
              "        buttonEl.style.display =\n",
              "          google.colab.kernel.accessAllowed ? 'block' : 'none';\n",
              "\n",
              "        async function convertToInteractive(key) {\n",
              "          const element = document.querySelector('#df-3d8769f2-571c-48a6-a935-062a0293236d');\n",
              "          const dataTable =\n",
              "            await google.colab.kernel.invokeFunction('convertToInteractive',\n",
              "                                                     [key], {});\n",
              "          if (!dataTable) return;\n",
              "\n",
              "          const docLinkHtml = 'Like what you see? Visit the ' +\n",
              "            '<a target=\"_blank\" href=https://colab.research.google.com/notebooks/data_table.ipynb>data table notebook</a>'\n",
              "            + ' to learn more about interactive tables.';\n",
              "          element.innerHTML = '';\n",
              "          dataTable['output_type'] = 'display_data';\n",
              "          await google.colab.output.renderOutput(dataTable, element);\n",
              "          const docLink = document.createElement('div');\n",
              "          docLink.innerHTML = docLinkHtml;\n",
              "          element.appendChild(docLink);\n",
              "        }\n",
              "      </script>\n",
              "    </div>\n",
              "  </div>\n",
              "  "
            ]
          },
          "metadata": {},
          "execution_count": 6
        }
      ]
    },
    {
      "cell_type": "code",
      "source": [
        "X_train, X_test, y_train, y_test = train_test_split(df_tf_input.iloc[:, 0:2], df_tf_input.iloc[:, 2], test_size=0.3, random_state=123)"
      ],
      "metadata": {
        "id": "jBA-RnKeSkmU"
      },
      "execution_count": 7,
      "outputs": []
    },
    {
      "cell_type": "markdown",
      "source": [
        "## Model 1 - Surprise Package - SVD Model - CPU\n"
      ],
      "metadata": {
        "id": "eT4rvFexrbI6"
      }
    },
    {
      "cell_type": "markdown",
      "source": [
        "#### Data"
      ],
      "metadata": {
        "id": "X4ZepeQpurdQ"
      }
    },
    {
      "cell_type": "code",
      "source": [
        "svd_data = Dataset.load_from_file('transaction_test.csv', reader=Reader(line_format='user item rating', sep=','))\n",
        "svd_trainset = svd_data.build_full_trainset()"
      ],
      "metadata": {
        "id": "Bnma5T74riIH"
      },
      "execution_count": null,
      "outputs": []
    },
    {
      "cell_type": "markdown",
      "source": [
        "#### GridSearch"
      ],
      "metadata": {
        "id": "6ac30Sm0utoV"
      }
    },
    {
      "cell_type": "code",
      "source": [
        "svd_param_grid = {'n_epochs': [5, 10, 20], 'lr_all': [0, 0.002, 0.007, 0.013, .02], 'reg_all': [0.0, 0.2, 0.4, 0.6, 0.8, 0.1]}\n",
        "\n",
        "svd_gs = GridSearchCV(SVD, svd_param_grid, measures=['rmse', 'mae'], cv=5)"
      ],
      "metadata": {
        "id": "x4bUDISlunSX"
      },
      "execution_count": null,
      "outputs": []
    },
    {
      "cell_type": "code",
      "source": [
        "svd_gs.fit(svd_data)"
      ],
      "metadata": {
        "id": "mky_Xr3YvKI_"
      },
      "execution_count": null,
      "outputs": []
    },
    {
      "cell_type": "code",
      "source": [
        "# best RMSE score\n",
        "print(svd_gs.best_score['rmse'])\n",
        "\n",
        "# combination of parameters that gave the best RMSE score\n",
        "print(svd_gs.best_params['rmse'])"
      ],
      "metadata": {
        "id": "QzK78IL9unVO",
        "outputId": "268a87e6-49ec-4812-8a29-4a304c521ee1",
        "colab": {
          "base_uri": "https://localhost:8080/"
        }
      },
      "execution_count": null,
      "outputs": [
        {
          "output_type": "stream",
          "name": "stdout",
          "text": [
            "0.19507878076010607\n",
            "{'n_epochs': 10, 'lr_all': 0.007, 'reg_all': 0.0}\n"
          ]
        }
      ]
    },
    {
      "cell_type": "markdown",
      "source": [
        "#### Model"
      ],
      "metadata": {
        "id": "5tdok2utuwAR"
      }
    },
    {
      "cell_type": "code",
      "source": [
        "svd_algorithm = SVD(n_epochs=10, lr_all=0.007, reg_all=0.0)\n"
      ],
      "metadata": {
        "id": "Wh9j6EQcunYZ"
      },
      "execution_count": null,
      "outputs": []
    },
    {
      "cell_type": "code",
      "source": [
        "svd_algorithm.fit(svd_trainset)\n"
      ],
      "metadata": {
        "id": "IL4afrjEwVyK",
        "outputId": "2fce7d5a-c8d2-414e-9ede-2204f2455c17",
        "colab": {
          "base_uri": "https://localhost:8080/"
        }
      },
      "execution_count": null,
      "outputs": [
        {
          "output_type": "execute_result",
          "data": {
            "text/plain": [
              "<surprise.prediction_algorithms.matrix_factorization.SVD at 0x7f269f6c9c90>"
            ]
          },
          "metadata": {},
          "execution_count": 63
        }
      ]
    },
    {
      "cell_type": "code",
      "source": [
        "svd_testset = svd_trainset.build_anti_testset()\n"
      ],
      "metadata": {
        "id": "mTxI28scwV0y"
      },
      "execution_count": null,
      "outputs": []
    },
    {
      "cell_type": "code",
      "source": [
        "svd_predictions = svd_algorithm.test(svd_testset)\n"
      ],
      "metadata": {
        "id": "ETtW094MwV3h"
      },
      "execution_count": null,
      "outputs": []
    },
    {
      "cell_type": "code",
      "source": [
        "top_n = get_top_n(svd_predictions, n=3)"
      ],
      "metadata": {
        "id": "gB1B52Ziwz6d"
      },
      "execution_count": null,
      "outputs": []
    },
    {
      "cell_type": "code",
      "source": [
        "# Print the tope 3 recommended items for 10 users\n",
        "count = 0\n",
        "for uid, user_ratings in top_n.items():\n",
        "  print(uid, [iid for (iid, _) in user_ratings])\n",
        "  count += 1\n",
        "  if count == 9:\n",
        "    break"
      ],
      "metadata": {
        "id": "axay5dIRwbqK",
        "outputId": "a1359a19-ee0a-4267-fe19-d11daaf89279",
        "colab": {
          "base_uri": "https://localhost:8080/"
        }
      },
      "execution_count": null,
      "outputs": [
        {
          "output_type": "stream",
          "name": "stdout",
          "text": [
            "566-26-0321 ['VR7', 'Redmi', 'Harman Kardon']\n",
            "274-18-0017 ['VR7', 'Redmi', 'Harman Kardon']\n",
            "455-28-7950 ['Fitbit large', 'VR7', 'Logitech']\n",
            "254-72-5938 ['Logitech', 'Sony', 'Redmi']\n",
            "563-47-8401 ['VR7', 'Sony', 'Redmi']\n",
            "848-43-9454 ['Fitbit large', 'VR7', 'Sony']\n",
            "056-77-2913 ['VR7', 'Redmi', 'Fitbit small']\n",
            "404-86-6657 ['VR7', 'Sony', 'Samsung s10']\n",
            "653-90-2575 ['VR7', 'Logitech', 'Sony']\n"
          ]
        }
      ]
    },
    {
      "cell_type": "code",
      "source": [
        "cross_validate(svd_algorithm, svd_data, measures=['RMSE', 'MAE'], cv=5, verbose=True)\n"
      ],
      "metadata": {
        "id": "kD3Xc8AmwV6I",
        "outputId": "a55feedd-c20d-4b30-9298-da4cc46912cb",
        "colab": {
          "base_uri": "https://localhost:8080/"
        }
      },
      "execution_count": null,
      "outputs": [
        {
          "output_type": "stream",
          "name": "stdout",
          "text": [
            "Evaluating RMSE, MAE of algorithm SVD on 5 split(s).\n",
            "\n",
            "                  Fold 1  Fold 2  Fold 3  Fold 4  Fold 5  Mean    Std     \n",
            "RMSE (testset)    0.1991  0.1934  0.1904  0.1887  0.1935  0.1930  0.0035  \n",
            "MAE (testset)     0.0938  0.0929  0.0894  0.0886  0.0940  0.0917  0.0023  \n",
            "Fit time          0.43    0.42    0.42    0.43    0.41    0.42    0.01    \n",
            "Test time         0.02    0.04    0.04    0.02    0.02    0.03    0.01    \n"
          ]
        },
        {
          "output_type": "execute_result",
          "data": {
            "text/plain": [
              "{'fit_time': (0.4298133850097656,\n",
              "  0.423663854598999,\n",
              "  0.4161999225616455,\n",
              "  0.42626142501831055,\n",
              "  0.4086315631866455),\n",
              " 'test_mae': array([0.09380145, 0.09287737, 0.08944695, 0.08864443, 0.09396991]),\n",
              " 'test_rmse': array([0.19911145, 0.19344797, 0.1903845 , 0.18872308, 0.1935099 ]),\n",
              " 'test_time': (0.024228572845458984,\n",
              "  0.04485011100769043,\n",
              "  0.03763246536254883,\n",
              "  0.02458024024963379,\n",
              "  0.024830341339111328)}"
            ]
          },
          "metadata": {},
          "execution_count": 70
        }
      ]
    },
    {
      "cell_type": "markdown",
      "source": [
        "## Model 2 - Surprise Package - SVD Model - GPU"
      ],
      "metadata": {
        "id": "WKAR3JUNw_yv"
      }
    },
    {
      "cell_type": "markdown",
      "source": [
        "#### Model"
      ],
      "metadata": {
        "id": "CC6Ah67mxJBH"
      }
    },
    {
      "cell_type": "code",
      "source": [
        "svd_algorithm_gpu = SVD(n_epochs=10, lr_all=0.007, reg_all=0.0)\n"
      ],
      "metadata": {
        "id": "u77e8zN-xJ5y"
      },
      "execution_count": null,
      "outputs": []
    },
    {
      "cell_type": "code",
      "source": [
        "svd_algorithm_gpu.fit(svd_trainset)\n"
      ],
      "metadata": {
        "id": "pqOWfZXCxNX5",
        "outputId": "bf823f8d-7e84-4b38-8765-cb120cbbc0eb",
        "colab": {
          "base_uri": "https://localhost:8080/"
        }
      },
      "execution_count": null,
      "outputs": [
        {
          "output_type": "execute_result",
          "data": {
            "text/plain": [
              "<surprise.prediction_algorithms.matrix_factorization.SVD at 0x7f3b5c8aba10>"
            ]
          },
          "metadata": {},
          "execution_count": 11
        }
      ]
    },
    {
      "cell_type": "code",
      "source": [
        "svd_testset_gpu = svd_trainset.build_anti_testset()\n"
      ],
      "metadata": {
        "id": "H6mk0Z03yK3O"
      },
      "execution_count": null,
      "outputs": []
    },
    {
      "cell_type": "code",
      "source": [
        "svd_predictions_gpu = svd_algorithm_gpu.test(svd_testset_gpu)\n"
      ],
      "metadata": {
        "id": "Vt616JcjxNdY"
      },
      "execution_count": null,
      "outputs": []
    },
    {
      "cell_type": "code",
      "source": [
        "top_n = get_top_n(svd_predictions_gpu, n=3)"
      ],
      "metadata": {
        "id": "Jy3bieyCxNgG"
      },
      "execution_count": null,
      "outputs": []
    },
    {
      "cell_type": "code",
      "source": [
        "# Print the tope 3 recommended items for 10 users\n",
        "count = 0\n",
        "for uid, user_ratings in top_n.items():\n",
        "  print(uid, [iid for (iid, _) in user_ratings])\n",
        "  count += 1\n",
        "  if count == 9:\n",
        "    break"
      ],
      "metadata": {
        "id": "O-6p5SCrxNij",
        "outputId": "6e37940f-f10c-4372-d37f-94280784681d",
        "colab": {
          "base_uri": "https://localhost:8080/"
        }
      },
      "execution_count": null,
      "outputs": [
        {
          "output_type": "stream",
          "name": "stdout",
          "text": [
            "566-26-0321 ['VR7', 'Harman Kardon', 'Redmi']\n",
            "274-18-0017 ['VR7', 'Redmi', 'Harman Kardon']\n",
            "455-28-7950 ['Fitbit large', 'Logitech', 'VR7']\n",
            "254-72-5938 ['Logitech', 'Sony', 'Redmi']\n",
            "563-47-8401 ['VR7', 'Sony', 'Redmi']\n",
            "848-43-9454 ['Fitbit large', 'VR7', 'Sony']\n",
            "056-77-2913 ['VR7', 'Redmi', 'Fitbit small']\n",
            "404-86-6657 ['VR7', 'Sony', 'Samsung s10']\n",
            "653-90-2575 ['VR7', 'Logitech', 'Sony']\n"
          ]
        }
      ]
    },
    {
      "cell_type": "code",
      "source": [
        "cross_validate(svd_algorithm_gpu, svd_data, measures=['RMSE', 'MAE'], cv=5, verbose=True)\n"
      ],
      "metadata": {
        "id": "nnWvIGpGxV_-",
        "outputId": "3a94f688-108d-47fb-c994-86402929e993",
        "colab": {
          "base_uri": "https://localhost:8080/"
        }
      },
      "execution_count": null,
      "outputs": [
        {
          "output_type": "stream",
          "name": "stdout",
          "text": [
            "Evaluating RMSE, MAE of algorithm SVD on 5 split(s).\n",
            "\n",
            "                  Fold 1  Fold 2  Fold 3  Fold 4  Fold 5  Mean    Std     \n",
            "RMSE (testset)    0.1931  0.1891  0.2026  0.2000  0.1920  0.1954  0.0051  \n",
            "MAE (testset)     0.0915  0.0885  0.0985  0.0970  0.0912  0.0933  0.0038  \n",
            "Fit time          0.69    0.67    0.49    0.35    0.33    0.51    0.15    \n",
            "Test time         0.04    0.04    0.08    0.05    0.02    0.04    0.02    \n"
          ]
        },
        {
          "output_type": "execute_result",
          "data": {
            "text/plain": [
              "{'fit_time': (0.690680742263794,\n",
              "  0.6746904850006104,\n",
              "  0.4851510524749756,\n",
              "  0.34769487380981445,\n",
              "  0.33371710777282715),\n",
              " 'test_mae': array([0.09145625, 0.08853029, 0.09845886, 0.09703524, 0.09121983]),\n",
              " 'test_rmse': array([0.19306169, 0.18908334, 0.20260684, 0.20000106, 0.19204419]),\n",
              " 'test_time': (0.03593039512634277,\n",
              "  0.03504323959350586,\n",
              "  0.07725381851196289,\n",
              "  0.046875953674316406,\n",
              "  0.0190277099609375)}"
            ]
          },
          "metadata": {},
          "execution_count": 16
        }
      ]
    },
    {
      "cell_type": "markdown",
      "source": [
        "## Model 3 - Tensorflow - LSTM Model - CPU"
      ],
      "metadata": {
        "id": "u23gqgJVyUGX"
      }
    },
    {
      "cell_type": "markdown",
      "source": [
        "#### Model"
      ],
      "metadata": {
        "id": "tH9ApCFfAYGr"
      }
    },
    {
      "cell_type": "code",
      "source": [
        "model_3 = keras.models.Sequential([\n",
        "    keras.layers.Flatten(input_shape=(2, )),\n",
        "    keras.layers.Dense(256, activation=\"relu\"),\n",
        "    keras.layers.Dense(128, activation=\"relu\"),\n",
        "    keras.layers.Dense(128, activation=\"relu\"),\n",
        "    keras.layers.Dense(1)\n",
        "])"
      ],
      "metadata": {
        "id": "YD8SNt0xvhD8"
      },
      "execution_count": 172,
      "outputs": []
    },
    {
      "cell_type": "code",
      "source": [
        "model_3.compile(\n",
        "    optimizer='adam',\n",
        "    loss='mean_squared_error')"
      ],
      "metadata": {
        "id": "luWM0Qr1vhHE"
      },
      "execution_count": 173,
      "outputs": []
    },
    {
      "cell_type": "code",
      "source": [
        "# Train Model\n",
        "%%time\n",
        "\n",
        "history_model_3 = model_3.fit(X_train, y_train, epochs=100,\n",
        "                              validation_data=(X_test, y_test))"
      ],
      "metadata": {
        "id": "i4cYWzP2vhKt",
        "outputId": "5c6ec70e-6977-49e3-e215-58448e812ec1",
        "colab": {
          "base_uri": "https://localhost:8080/"
        }
      },
      "execution_count": 174,
      "outputs": [
        {
          "output_type": "stream",
          "name": "stdout",
          "text": [
            "Epoch 1/100\n",
            "359/359 [==============================] - 2s 4ms/step - loss: 0.0650 - val_loss: 0.0393\n",
            "Epoch 2/100\n",
            "359/359 [==============================] - 1s 4ms/step - loss: 0.0357 - val_loss: 0.0344\n",
            "Epoch 3/100\n",
            "359/359 [==============================] - 1s 4ms/step - loss: 0.0336 - val_loss: 0.0341\n",
            "Epoch 4/100\n",
            "359/359 [==============================] - 1s 3ms/step - loss: 0.0309 - val_loss: 0.0277\n",
            "Epoch 5/100\n",
            "359/359 [==============================] - 1s 3ms/step - loss: 0.0190 - val_loss: 0.0090\n",
            "Epoch 6/100\n",
            "359/359 [==============================] - 1s 3ms/step - loss: 0.0066 - val_loss: 0.0050\n",
            "Epoch 7/100\n",
            "359/359 [==============================] - 1s 4ms/step - loss: 0.0048 - val_loss: 0.0052\n",
            "Epoch 8/100\n",
            "359/359 [==============================] - 1s 3ms/step - loss: 0.0031 - val_loss: 0.0022\n",
            "Epoch 9/100\n",
            "359/359 [==============================] - 1s 4ms/step - loss: 0.0020 - val_loss: 0.0017\n",
            "Epoch 10/100\n",
            "359/359 [==============================] - 1s 4ms/step - loss: 0.0019 - val_loss: 0.0015\n",
            "Epoch 11/100\n",
            "359/359 [==============================] - 1s 4ms/step - loss: 0.0017 - val_loss: 0.0015\n",
            "Epoch 12/100\n",
            "359/359 [==============================] - 1s 3ms/step - loss: 0.0017 - val_loss: 0.0015\n",
            "Epoch 13/100\n",
            "359/359 [==============================] - 1s 3ms/step - loss: 0.0018 - val_loss: 0.0017\n",
            "Epoch 14/100\n",
            "359/359 [==============================] - 1s 3ms/step - loss: 0.0017 - val_loss: 0.0017\n",
            "Epoch 15/100\n",
            "359/359 [==============================] - 1s 4ms/step - loss: 0.0017 - val_loss: 0.0018\n",
            "Epoch 16/100\n",
            "359/359 [==============================] - 1s 4ms/step - loss: 0.0017 - val_loss: 0.0018\n",
            "Epoch 17/100\n",
            "359/359 [==============================] - 1s 3ms/step - loss: 0.0017 - val_loss: 0.0017\n",
            "Epoch 18/100\n",
            "359/359 [==============================] - 1s 3ms/step - loss: 0.0016 - val_loss: 0.0016\n",
            "Epoch 19/100\n",
            "359/359 [==============================] - 1s 3ms/step - loss: 0.0020 - val_loss: 0.0040\n",
            "Epoch 20/100\n",
            "359/359 [==============================] - 1s 3ms/step - loss: 0.0017 - val_loss: 0.0018\n",
            "Epoch 21/100\n",
            "359/359 [==============================] - 1s 4ms/step - loss: 0.0016 - val_loss: 0.0015\n",
            "Epoch 22/100\n",
            "359/359 [==============================] - 1s 4ms/step - loss: 0.0016 - val_loss: 0.0019\n",
            "Epoch 23/100\n",
            "359/359 [==============================] - 1s 3ms/step - loss: 0.0016 - val_loss: 0.0015\n",
            "Epoch 24/100\n",
            "359/359 [==============================] - 1s 3ms/step - loss: 0.0015 - val_loss: 0.0016\n",
            "Epoch 25/100\n",
            "359/359 [==============================] - 1s 3ms/step - loss: 0.0017 - val_loss: 0.0017\n",
            "Epoch 26/100\n",
            "359/359 [==============================] - 1s 3ms/step - loss: 0.0015 - val_loss: 0.0016\n",
            "Epoch 27/100\n",
            "359/359 [==============================] - 1s 3ms/step - loss: 0.0015 - val_loss: 0.0021\n",
            "Epoch 28/100\n",
            "359/359 [==============================] - 1s 4ms/step - loss: 0.0015 - val_loss: 0.0016\n",
            "Epoch 29/100\n",
            "359/359 [==============================] - 1s 3ms/step - loss: 0.0016 - val_loss: 0.0023\n",
            "Epoch 30/100\n",
            "359/359 [==============================] - 1s 4ms/step - loss: 0.0016 - val_loss: 0.0022\n",
            "Epoch 31/100\n",
            "359/359 [==============================] - 1s 3ms/step - loss: 0.0016 - val_loss: 0.0018\n",
            "Epoch 32/100\n",
            "359/359 [==============================] - 1s 4ms/step - loss: 0.0015 - val_loss: 0.0015\n",
            "Epoch 33/100\n",
            "359/359 [==============================] - 1s 3ms/step - loss: 0.0017 - val_loss: 0.0017\n",
            "Epoch 34/100\n",
            "359/359 [==============================] - 1s 4ms/step - loss: 0.0015 - val_loss: 0.0015\n",
            "Epoch 35/100\n",
            "359/359 [==============================] - 1s 4ms/step - loss: 0.0015 - val_loss: 0.0016\n",
            "Epoch 36/100\n",
            "359/359 [==============================] - 1s 4ms/step - loss: 0.0015 - val_loss: 0.0015\n",
            "Epoch 37/100\n",
            "359/359 [==============================] - 1s 4ms/step - loss: 0.0016 - val_loss: 0.0015\n",
            "Epoch 38/100\n",
            "359/359 [==============================] - 1s 4ms/step - loss: 0.0015 - val_loss: 0.0018\n",
            "Epoch 39/100\n",
            "359/359 [==============================] - 1s 3ms/step - loss: 0.0015 - val_loss: 0.0016\n",
            "Epoch 40/100\n",
            "359/359 [==============================] - 1s 4ms/step - loss: 0.0015 - val_loss: 0.0015\n",
            "Epoch 41/100\n",
            "359/359 [==============================] - 1s 3ms/step - loss: 0.0015 - val_loss: 0.0019\n",
            "Epoch 42/100\n",
            "359/359 [==============================] - 1s 4ms/step - loss: 0.0016 - val_loss: 0.0016\n",
            "Epoch 43/100\n",
            "359/359 [==============================] - 1s 4ms/step - loss: 0.0015 - val_loss: 0.0018\n",
            "Epoch 44/100\n",
            "359/359 [==============================] - 1s 3ms/step - loss: 0.0015 - val_loss: 0.0014\n",
            "Epoch 45/100\n",
            "359/359 [==============================] - 2s 4ms/step - loss: 0.0015 - val_loss: 0.0015\n",
            "Epoch 46/100\n",
            "359/359 [==============================] - 2s 4ms/step - loss: 0.0016 - val_loss: 0.0035\n",
            "Epoch 47/100\n",
            "359/359 [==============================] - 1s 3ms/step - loss: 0.0015 - val_loss: 0.0017\n",
            "Epoch 48/100\n",
            "359/359 [==============================] - 1s 4ms/step - loss: 0.0015 - val_loss: 0.0015\n",
            "Epoch 49/100\n",
            "359/359 [==============================] - 1s 4ms/step - loss: 0.0015 - val_loss: 0.0014\n",
            "Epoch 50/100\n",
            "359/359 [==============================] - 1s 4ms/step - loss: 0.0015 - val_loss: 0.0014\n",
            "Epoch 51/100\n",
            "359/359 [==============================] - 1s 4ms/step - loss: 0.0015 - val_loss: 0.0015\n",
            "Epoch 52/100\n",
            "359/359 [==============================] - 1s 3ms/step - loss: 0.0015 - val_loss: 0.0015\n",
            "Epoch 53/100\n",
            "359/359 [==============================] - 1s 4ms/step - loss: 0.0015 - val_loss: 0.0014\n",
            "Epoch 54/100\n",
            "359/359 [==============================] - 1s 3ms/step - loss: 0.0015 - val_loss: 0.0016\n",
            "Epoch 55/100\n",
            "359/359 [==============================] - 1s 4ms/step - loss: 0.0016 - val_loss: 0.0015\n",
            "Epoch 56/100\n",
            "359/359 [==============================] - 1s 3ms/step - loss: 0.0015 - val_loss: 0.0017\n",
            "Epoch 57/100\n",
            "359/359 [==============================] - 1s 4ms/step - loss: 0.0016 - val_loss: 0.0014\n",
            "Epoch 58/100\n",
            "359/359 [==============================] - 1s 4ms/step - loss: 0.0015 - val_loss: 0.0016\n",
            "Epoch 59/100\n",
            "359/359 [==============================] - 1s 3ms/step - loss: 0.0014 - val_loss: 0.0015\n",
            "Epoch 60/100\n",
            "359/359 [==============================] - 1s 3ms/step - loss: 0.0015 - val_loss: 0.0014\n",
            "Epoch 61/100\n",
            "359/359 [==============================] - 1s 4ms/step - loss: 0.0015 - val_loss: 0.0016\n",
            "Epoch 62/100\n",
            "359/359 [==============================] - 1s 3ms/step - loss: 0.0015 - val_loss: 0.0015\n",
            "Epoch 63/100\n",
            "359/359 [==============================] - 1s 4ms/step - loss: 0.0016 - val_loss: 0.0015\n",
            "Epoch 64/100\n",
            "359/359 [==============================] - 1s 3ms/step - loss: 0.0014 - val_loss: 0.0015\n",
            "Epoch 65/100\n",
            "359/359 [==============================] - 1s 3ms/step - loss: 0.0015 - val_loss: 0.0014\n",
            "Epoch 66/100\n",
            "359/359 [==============================] - 1s 4ms/step - loss: 0.0015 - val_loss: 0.0017\n",
            "Epoch 67/100\n",
            "359/359 [==============================] - 1s 3ms/step - loss: 0.0015 - val_loss: 0.0020\n",
            "Epoch 68/100\n",
            "359/359 [==============================] - 1s 3ms/step - loss: 0.0015 - val_loss: 0.0015\n",
            "Epoch 69/100\n",
            "359/359 [==============================] - 1s 3ms/step - loss: 0.0015 - val_loss: 0.0015\n",
            "Epoch 70/100\n",
            "359/359 [==============================] - 1s 4ms/step - loss: 0.0015 - val_loss: 0.0014\n",
            "Epoch 71/100\n",
            "359/359 [==============================] - 1s 4ms/step - loss: 0.0015 - val_loss: 0.0015\n",
            "Epoch 72/100\n",
            "359/359 [==============================] - 1s 3ms/step - loss: 0.0016 - val_loss: 0.0030\n",
            "Epoch 73/100\n",
            "359/359 [==============================] - 1s 4ms/step - loss: 0.0015 - val_loss: 0.0015\n",
            "Epoch 74/100\n",
            "359/359 [==============================] - 1s 4ms/step - loss: 0.0015 - val_loss: 0.0014\n",
            "Epoch 75/100\n",
            "359/359 [==============================] - 1s 3ms/step - loss: 0.0014 - val_loss: 0.0016\n",
            "Epoch 76/100\n",
            "359/359 [==============================] - 1s 4ms/step - loss: 0.0015 - val_loss: 0.0015\n",
            "Epoch 77/100\n",
            "359/359 [==============================] - 1s 4ms/step - loss: 0.0014 - val_loss: 0.0015\n",
            "Epoch 78/100\n",
            "359/359 [==============================] - 1s 3ms/step - loss: 0.0014 - val_loss: 0.0015\n",
            "Epoch 79/100\n",
            "359/359 [==============================] - 1s 4ms/step - loss: 0.0015 - val_loss: 0.0015\n",
            "Epoch 80/100\n",
            "359/359 [==============================] - 1s 3ms/step - loss: 0.0015 - val_loss: 0.0015\n",
            "Epoch 81/100\n",
            "359/359 [==============================] - 1s 3ms/step - loss: 0.0015 - val_loss: 0.0014\n",
            "Epoch 82/100\n",
            "359/359 [==============================] - 1s 4ms/step - loss: 0.0016 - val_loss: 0.0015\n",
            "Epoch 83/100\n",
            "359/359 [==============================] - 1s 4ms/step - loss: 0.0014 - val_loss: 0.0017\n",
            "Epoch 84/100\n",
            "359/359 [==============================] - 1s 3ms/step - loss: 0.0014 - val_loss: 0.0015\n",
            "Epoch 85/100\n",
            "359/359 [==============================] - 1s 4ms/step - loss: 0.0015 - val_loss: 0.0015\n",
            "Epoch 86/100\n",
            "359/359 [==============================] - 1s 3ms/step - loss: 0.0014 - val_loss: 0.0015\n",
            "Epoch 87/100\n",
            "359/359 [==============================] - 1s 3ms/step - loss: 0.0015 - val_loss: 0.0015\n",
            "Epoch 88/100\n",
            "359/359 [==============================] - 1s 4ms/step - loss: 0.0015 - val_loss: 0.0015\n",
            "Epoch 89/100\n",
            "359/359 [==============================] - 1s 4ms/step - loss: 0.0015 - val_loss: 0.0016\n",
            "Epoch 90/100\n",
            "359/359 [==============================] - 1s 4ms/step - loss: 0.0014 - val_loss: 0.0015\n",
            "Epoch 91/100\n",
            "359/359 [==============================] - 1s 4ms/step - loss: 0.0015 - val_loss: 0.0015\n",
            "Epoch 92/100\n",
            "359/359 [==============================] - 1s 3ms/step - loss: 0.0015 - val_loss: 0.0014\n",
            "Epoch 93/100\n",
            "359/359 [==============================] - 1s 4ms/step - loss: 0.0015 - val_loss: 0.0015\n",
            "Epoch 94/100\n",
            "359/359 [==============================] - 1s 4ms/step - loss: 0.0015 - val_loss: 0.0015\n",
            "Epoch 95/100\n",
            "359/359 [==============================] - 1s 3ms/step - loss: 0.0014 - val_loss: 0.0014\n",
            "Epoch 96/100\n",
            "359/359 [==============================] - 1s 4ms/step - loss: 0.0015 - val_loss: 0.0015\n",
            "Epoch 97/100\n",
            "359/359 [==============================] - 1s 4ms/step - loss: 0.0015 - val_loss: 0.0015\n",
            "Epoch 98/100\n",
            "359/359 [==============================] - 1s 3ms/step - loss: 0.0014 - val_loss: 0.0017\n",
            "Epoch 99/100\n",
            "359/359 [==============================] - 1s 3ms/step - loss: 0.0015 - val_loss: 0.0015\n",
            "Epoch 100/100\n",
            "359/359 [==============================] - 1s 3ms/step - loss: 0.0015 - val_loss: 0.0015\n",
            "CPU times: user 2min 25s, sys: 11.1 s, total: 2min 36s\n",
            "Wall time: 2min 7s\n"
          ]
        }
      ]
    },
    {
      "cell_type": "code",
      "source": [
        "plt.plot(history_model_3.history['loss'])\n",
        "plt.xlabel(\"Epochs\")\n",
        "plt.ylabel(\"Training Error\")"
      ],
      "metadata": {
        "id": "3Hg8OF37vhP-",
        "outputId": "7f76ba77-6f13-450f-a55e-cea5ce4be59f",
        "colab": {
          "base_uri": "https://localhost:8080/",
          "height": 296
        }
      },
      "execution_count": 175,
      "outputs": [
        {
          "output_type": "execute_result",
          "data": {
            "text/plain": [
              "Text(0, 0.5, 'Training Error')"
            ]
          },
          "metadata": {},
          "execution_count": 175
        },
        {
          "output_type": "display_data",
          "data": {
            "text/plain": [
              "<Figure size 432x288 with 1 Axes>"
            ],
            "image/png": "[encoded data removed]"
          },
          "metadata": {
            "needs_background": "light"
          }
        }
      ]
    },
    {
      "cell_type": "code",
      "source": [
        "# Creating dataset for making recommendations for the first user in our list, user 566260321\n",
        "id_user = df_tf[df_tf['user'] == 566260321]\n",
        "user = id_user[['user_encoded', 'item_encoded']]\n",
        "\n",
        "predictions = model_3.predict(user)\n",
        "predictions = np.array([a[0] for a in predictions])\n",
        "predictions = [round(i, 1) for i in predictions]\n",
        "items = pd.DataFrame(predictions, columns=['item_encoded']).merge(df_tf, how='left', on='item_encoded')\n",
        "items['item'].drop_duplicates().dropna()"
      ],
      "metadata": {
        "id": "TMF6R-0avtCU",
        "outputId": "9ab05c38-028a-40ec-d90b-f2470726c81c",
        "colab": {
          "base_uri": "https://localhost:8080/"
        }
      },
      "execution_count": 176,
      "outputs": [
        {
          "output_type": "execute_result",
          "data": {
            "text/plain": [
              "1    VR7\n",
              "Name: item, dtype: object"
            ]
          },
          "metadata": {},
          "execution_count": 176
        }
      ]
    },
    {
      "cell_type": "markdown",
      "source": [
        "## Model 4 - Tensorflow - Neural Network Model - GPU"
      ],
      "metadata": {
        "id": "JklnOMWWyaL3"
      }
    },
    {
      "cell_type": "markdown",
      "source": [
        "#### Model"
      ],
      "metadata": {
        "id": "pnTL2d5mvefS"
      }
    },
    {
      "cell_type": "code",
      "source": [
        "model_4 = keras.models.Sequential([\n",
        "    keras.layers.Flatten(input_shape=(2, )),\n",
        "    keras.layers.Dense(256, activation=\"relu\"),\n",
        "    keras.layers.Dense(128, activation=\"relu\"),\n",
        "    keras.layers.Dense(128, activation=\"relu\"),\n",
        "    keras.layers.Dense(1)\n",
        "])"
      ],
      "metadata": {
        "id": "FtxuVaLMe27J"
      },
      "execution_count": 8,
      "outputs": []
    },
    {
      "cell_type": "code",
      "source": [
        "model_4.compile(\n",
        "    optimizer='adam',\n",
        "    loss='mean_squared_error')"
      ],
      "metadata": {
        "id": "v2CC89LZe2-F"
      },
      "execution_count": 9,
      "outputs": []
    },
    {
      "cell_type": "code",
      "source": [
        "# Train Model\n",
        "%%time\n",
        "\n",
        "history_model_4 = model_4.fit(X_train, y_train, epochs=100,\n",
        "                              validation_data=(X_test, y_test))"
      ],
      "metadata": {
        "colab": {
          "base_uri": "https://localhost:8080/"
        },
        "id": "saQijrKbe3BC",
        "outputId": "dc279465-19c0-4afe-f98f-418eeb5b0e06"
      },
      "execution_count": 10,
      "outputs": [
        {
          "output_type": "stream",
          "name": "stdout",
          "text": [
            "Epoch 1/100\n",
            "359/359 [==============================] - 4s 4ms/step - loss: 0.0645 - val_loss: 0.0386\n",
            "Epoch 2/100\n",
            "359/359 [==============================] - 1s 3ms/step - loss: 0.0352 - val_loss: 0.0343\n",
            "Epoch 3/100\n",
            "359/359 [==============================] - 1s 3ms/step - loss: 0.0345 - val_loss: 0.0345\n",
            "Epoch 4/100\n",
            "359/359 [==============================] - 1s 3ms/step - loss: 0.0344 - val_loss: 0.0363\n",
            "Epoch 5/100\n",
            "359/359 [==============================] - 1s 3ms/step - loss: 0.0338 - val_loss: 0.0317\n",
            "Epoch 6/100\n",
            "359/359 [==============================] - 1s 3ms/step - loss: 0.0305 - val_loss: 0.0265\n",
            "Epoch 7/100\n",
            "359/359 [==============================] - 1s 3ms/step - loss: 0.0159 - val_loss: 0.0051\n",
            "Epoch 8/100\n",
            "359/359 [==============================] - 1s 3ms/step - loss: 0.0048 - val_loss: 0.0041\n",
            "Epoch 9/100\n",
            "359/359 [==============================] - 1s 3ms/step - loss: 0.0027 - val_loss: 0.0022\n",
            "Epoch 10/100\n",
            "359/359 [==============================] - 1s 3ms/step - loss: 0.0021 - val_loss: 0.0016\n",
            "Epoch 11/100\n",
            "359/359 [==============================] - 1s 3ms/step - loss: 0.0017 - val_loss: 0.0015\n",
            "Epoch 12/100\n",
            "359/359 [==============================] - 1s 3ms/step - loss: 0.0020 - val_loss: 0.0015\n",
            "Epoch 13/100\n",
            "359/359 [==============================] - 1s 3ms/step - loss: 0.0016 - val_loss: 0.0018\n",
            "Epoch 14/100\n",
            "359/359 [==============================] - 1s 3ms/step - loss: 0.0018 - val_loss: 0.0017\n",
            "Epoch 15/100\n",
            "359/359 [==============================] - 1s 3ms/step - loss: 0.0016 - val_loss: 0.0017\n",
            "Epoch 16/100\n",
            "359/359 [==============================] - 1s 3ms/step - loss: 0.0019 - val_loss: 0.0022\n",
            "Epoch 17/100\n",
            "359/359 [==============================] - 1s 3ms/step - loss: 0.0016 - val_loss: 0.0015\n",
            "Epoch 18/100\n",
            "359/359 [==============================] - 1s 3ms/step - loss: 0.0017 - val_loss: 0.0016\n",
            "Epoch 19/100\n",
            "359/359 [==============================] - 1s 3ms/step - loss: 0.0016 - val_loss: 0.0016\n",
            "Epoch 20/100\n",
            "359/359 [==============================] - 1s 3ms/step - loss: 0.0016 - val_loss: 0.0015\n",
            "Epoch 21/100\n",
            "359/359 [==============================] - 1s 3ms/step - loss: 0.0018 - val_loss: 0.0018\n",
            "Epoch 22/100\n",
            "359/359 [==============================] - 1s 3ms/step - loss: 0.0017 - val_loss: 0.0017\n",
            "Epoch 23/100\n",
            "359/359 [==============================] - 1s 3ms/step - loss: 0.0017 - val_loss: 0.0016\n",
            "Epoch 24/100\n",
            "359/359 [==============================] - 1s 3ms/step - loss: 0.0016 - val_loss: 0.0016\n",
            "Epoch 25/100\n",
            "359/359 [==============================] - 1s 3ms/step - loss: 0.0015 - val_loss: 0.0016\n",
            "Epoch 26/100\n",
            "359/359 [==============================] - 1s 3ms/step - loss: 0.0016 - val_loss: 0.0015\n",
            "Epoch 27/100\n",
            "359/359 [==============================] - 1s 3ms/step - loss: 0.0016 - val_loss: 0.0015\n",
            "Epoch 28/100\n",
            "359/359 [==============================] - 1s 3ms/step - loss: 0.0015 - val_loss: 0.0017\n",
            "Epoch 29/100\n",
            "359/359 [==============================] - 2s 5ms/step - loss: 0.0016 - val_loss: 0.0016\n",
            "Epoch 30/100\n",
            "359/359 [==============================] - 1s 3ms/step - loss: 0.0015 - val_loss: 0.0014\n",
            "Epoch 31/100\n",
            "359/359 [==============================] - 1s 3ms/step - loss: 0.0015 - val_loss: 0.0014\n",
            "Epoch 32/100\n",
            "359/359 [==============================] - 1s 3ms/step - loss: 0.0016 - val_loss: 0.0017\n",
            "Epoch 33/100\n",
            "359/359 [==============================] - 1s 3ms/step - loss: 0.0016 - val_loss: 0.0017\n",
            "Epoch 34/100\n",
            "359/359 [==============================] - 1s 3ms/step - loss: 0.0015 - val_loss: 0.0018\n",
            "Epoch 35/100\n",
            "359/359 [==============================] - 1s 3ms/step - loss: 0.0017 - val_loss: 0.0016\n",
            "Epoch 36/100\n",
            "359/359 [==============================] - 1s 3ms/step - loss: 0.0015 - val_loss: 0.0020\n",
            "Epoch 37/100\n",
            "359/359 [==============================] - 1s 3ms/step - loss: 0.0015 - val_loss: 0.0015\n",
            "Epoch 38/100\n",
            "359/359 [==============================] - 1s 3ms/step - loss: 0.0015 - val_loss: 0.0014\n",
            "Epoch 39/100\n",
            "359/359 [==============================] - 1s 3ms/step - loss: 0.0015 - val_loss: 0.0017\n",
            "Epoch 40/100\n",
            "359/359 [==============================] - 1s 3ms/step - loss: 0.0015 - val_loss: 0.0019\n",
            "Epoch 41/100\n",
            "359/359 [==============================] - 1s 3ms/step - loss: 0.0015 - val_loss: 0.0014\n",
            "Epoch 42/100\n",
            "359/359 [==============================] - 1s 3ms/step - loss: 0.0016 - val_loss: 0.0014\n",
            "Epoch 43/100\n",
            "359/359 [==============================] - 1s 3ms/step - loss: 0.0015 - val_loss: 0.0015\n",
            "Epoch 44/100\n",
            "359/359 [==============================] - 1s 3ms/step - loss: 0.0016 - val_loss: 0.0015\n",
            "Epoch 45/100\n",
            "359/359 [==============================] - 1s 3ms/step - loss: 0.0015 - val_loss: 0.0017\n",
            "Epoch 46/100\n",
            "359/359 [==============================] - 1s 3ms/step - loss: 0.0015 - val_loss: 0.0016\n",
            "Epoch 47/100\n",
            "359/359 [==============================] - 1s 3ms/step - loss: 0.0015 - val_loss: 0.0015\n",
            "Epoch 48/100\n",
            "359/359 [==============================] - 1s 3ms/step - loss: 0.0014 - val_loss: 0.0014\n",
            "Epoch 49/100\n",
            "359/359 [==============================] - 2s 4ms/step - loss: 0.0015 - val_loss: 0.0015\n",
            "Epoch 50/100\n",
            "359/359 [==============================] - 1s 4ms/step - loss: 0.0015 - val_loss: 0.0016\n",
            "Epoch 51/100\n",
            "359/359 [==============================] - 1s 3ms/step - loss: 0.0016 - val_loss: 0.0015\n",
            "Epoch 52/100\n",
            "359/359 [==============================] - 1s 3ms/step - loss: 0.0015 - val_loss: 0.0016\n",
            "Epoch 53/100\n",
            "359/359 [==============================] - 1s 3ms/step - loss: 0.0015 - val_loss: 0.0018\n",
            "Epoch 54/100\n",
            "359/359 [==============================] - 1s 3ms/step - loss: 0.0015 - val_loss: 0.0014\n",
            "Epoch 55/100\n",
            "359/359 [==============================] - 1s 3ms/step - loss: 0.0015 - val_loss: 0.0015\n",
            "Epoch 56/100\n",
            "359/359 [==============================] - 1s 3ms/step - loss: 0.0015 - val_loss: 0.0015\n",
            "Epoch 57/100\n",
            "359/359 [==============================] - 1s 3ms/step - loss: 0.0015 - val_loss: 0.0016\n",
            "Epoch 58/100\n",
            "359/359 [==============================] - 1s 3ms/step - loss: 0.0016 - val_loss: 0.0015\n",
            "Epoch 59/100\n",
            "359/359 [==============================] - 1s 3ms/step - loss: 0.0015 - val_loss: 0.0015\n",
            "Epoch 60/100\n",
            "359/359 [==============================] - 1s 3ms/step - loss: 0.0015 - val_loss: 0.0014\n",
            "Epoch 61/100\n",
            "359/359 [==============================] - 1s 3ms/step - loss: 0.0015 - val_loss: 0.0014\n",
            "Epoch 62/100\n",
            "359/359 [==============================] - 1s 3ms/step - loss: 0.0015 - val_loss: 0.0016\n",
            "Epoch 63/100\n",
            "359/359 [==============================] - 1s 3ms/step - loss: 0.0015 - val_loss: 0.0015\n",
            "Epoch 64/100\n",
            "359/359 [==============================] - 1s 3ms/step - loss: 0.0019 - val_loss: 0.0015\n",
            "Epoch 65/100\n",
            "359/359 [==============================] - 1s 3ms/step - loss: 0.0015 - val_loss: 0.0014\n",
            "Epoch 66/100\n",
            "359/359 [==============================] - 1s 3ms/step - loss: 0.0015 - val_loss: 0.0016\n",
            "Epoch 67/100\n",
            "359/359 [==============================] - 1s 3ms/step - loss: 0.0015 - val_loss: 0.0016\n",
            "Epoch 68/100\n",
            "359/359 [==============================] - 1s 3ms/step - loss: 0.0015 - val_loss: 0.0017\n",
            "Epoch 69/100\n",
            "359/359 [==============================] - 1s 3ms/step - loss: 0.0014 - val_loss: 0.0014\n",
            "Epoch 70/100\n",
            "359/359 [==============================] - 1s 3ms/step - loss: 0.0015 - val_loss: 0.0014\n",
            "Epoch 71/100\n",
            "359/359 [==============================] - 1s 3ms/step - loss: 0.0015 - val_loss: 0.0014\n",
            "Epoch 72/100\n",
            "359/359 [==============================] - 1s 3ms/step - loss: 0.0015 - val_loss: 0.0016\n",
            "Epoch 73/100\n",
            "359/359 [==============================] - 2s 5ms/step - loss: 0.0015 - val_loss: 0.0015\n",
            "Epoch 74/100\n",
            "359/359 [==============================] - 1s 3ms/step - loss: 0.0015 - val_loss: 0.0014\n",
            "Epoch 75/100\n",
            "359/359 [==============================] - 1s 3ms/step - loss: 0.0015 - val_loss: 0.0016\n",
            "Epoch 76/100\n",
            "359/359 [==============================] - 1s 3ms/step - loss: 0.0015 - val_loss: 0.0017\n",
            "Epoch 77/100\n",
            "359/359 [==============================] - 1s 3ms/step - loss: 0.0015 - val_loss: 0.0017\n",
            "Epoch 78/100\n",
            "359/359 [==============================] - 1s 3ms/step - loss: 0.0015 - val_loss: 0.0016\n",
            "Epoch 79/100\n",
            "359/359 [==============================] - 1s 3ms/step - loss: 0.0015 - val_loss: 0.0015\n",
            "Epoch 80/100\n",
            "359/359 [==============================] - 1s 3ms/step - loss: 0.0015 - val_loss: 0.0014\n",
            "Epoch 81/100\n",
            "359/359 [==============================] - 1s 3ms/step - loss: 0.0015 - val_loss: 0.0015\n",
            "Epoch 82/100\n",
            "359/359 [==============================] - 1s 3ms/step - loss: 0.0014 - val_loss: 0.0014\n",
            "Epoch 83/100\n",
            "359/359 [==============================] - 1s 3ms/step - loss: 0.0014 - val_loss: 0.0015\n",
            "Epoch 84/100\n",
            "359/359 [==============================] - 1s 3ms/step - loss: 0.0014 - val_loss: 0.0015\n",
            "Epoch 85/100\n",
            "359/359 [==============================] - 1s 3ms/step - loss: 0.0015 - val_loss: 0.0014\n",
            "Epoch 86/100\n",
            "359/359 [==============================] - 1s 3ms/step - loss: 0.0015 - val_loss: 0.0015\n",
            "Epoch 87/100\n",
            "359/359 [==============================] - 1s 3ms/step - loss: 0.0015 - val_loss: 0.0014\n",
            "Epoch 88/100\n",
            "359/359 [==============================] - 1s 3ms/step - loss: 0.0014 - val_loss: 0.0015\n",
            "Epoch 89/100\n",
            "359/359 [==============================] - 1s 3ms/step - loss: 0.0014 - val_loss: 0.0016\n",
            "Epoch 90/100\n",
            "359/359 [==============================] - 1s 3ms/step - loss: 0.0015 - val_loss: 0.0016\n",
            "Epoch 91/100\n",
            "359/359 [==============================] - 1s 3ms/step - loss: 0.0015 - val_loss: 0.0015\n",
            "Epoch 92/100\n",
            "359/359 [==============================] - 1s 3ms/step - loss: 0.0015 - val_loss: 0.0015\n",
            "Epoch 93/100\n",
            "359/359 [==============================] - 1s 3ms/step - loss: 0.0015 - val_loss: 0.0014\n",
            "Epoch 94/100\n",
            "359/359 [==============================] - 1s 3ms/step - loss: 0.0014 - val_loss: 0.0015\n",
            "Epoch 95/100\n",
            "359/359 [==============================] - 1s 3ms/step - loss: 0.0015 - val_loss: 0.0015\n",
            "Epoch 96/100\n",
            "359/359 [==============================] - 1s 3ms/step - loss: 0.0015 - val_loss: 0.0014\n",
            "Epoch 97/100\n",
            "359/359 [==============================] - 1s 3ms/step - loss: 0.0015 - val_loss: 0.0015\n",
            "Epoch 98/100\n",
            "359/359 [==============================] - 1s 3ms/step - loss: 0.0014 - val_loss: 0.0014\n",
            "Epoch 99/100\n",
            "359/359 [==============================] - 1s 3ms/step - loss: 0.0014 - val_loss: 0.0014\n",
            "Epoch 100/100\n",
            "359/359 [==============================] - 1s 3ms/step - loss: 0.0014 - val_loss: 0.0014\n",
            "CPU times: user 2min 13s, sys: 12.6 s, total: 2min 26s\n",
            "Wall time: 2min 2s\n"
          ]
        }
      ]
    },
    {
      "cell_type": "code",
      "source": [
        "plt.plot(history_model_4.history['loss'])\n",
        "plt.xlabel(\"Epochs\")\n",
        "plt.ylabel(\"Training Error\")"
      ],
      "metadata": {
        "id": "o738ASRuZif4",
        "colab": {
          "base_uri": "https://localhost:8080/",
          "height": 296
        },
        "outputId": "b6bcd8b8-941c-46a6-c7fc-076132303cf5"
      },
      "execution_count": 11,
      "outputs": [
        {
          "output_type": "execute_result",
          "data": {
            "text/plain": [
              "Text(0, 0.5, 'Training Error')"
            ]
          },
          "metadata": {},
          "execution_count": 11
        },
        {
          "output_type": "display_data",
          "data": {
            "text/plain": [
              "<Figure size 432x288 with 1 Axes>"
            ],
            "image/png": "[encoded data removed]"
          },
          "metadata": {
            "needs_background": "light"
          }
        }
      ]
    },
    {
      "cell_type": "code",
      "source": [
        "# Creating dataset for making recommendations for the first user in our list, user 566260321\n",
        "id_user = df_tf[df_tf['user'] == 566260321]\n",
        "user = id_user[['user_encoded', 'item_encoded']]\n",
        "\n",
        "predictions = model_4.predict(user)\n",
        "predictions = np.array([a[0] for a in predictions])\n",
        "predictions = [round(i, 1) for i in predictions]\n",
        "items = pd.DataFrame(predictions, columns=['item_encoded']).merge(df_tf, how='left', on='item_encoded')\n",
        "items['item'].drop_duplicates().dropna()"
      ],
      "metadata": {
        "colab": {
          "base_uri": "https://localhost:8080/"
        },
        "id": "9i038iYslz7B",
        "outputId": "cac0510a-0bdf-4413-d39c-389582ba13e2"
      },
      "execution_count": 12,
      "outputs": [
        {
          "output_type": "execute_result",
          "data": {
            "text/plain": [
              "1    VR7\n",
              "Name: item, dtype: object"
            ]
          },
          "metadata": {},
          "execution_count": 12
        }
      ]
    },
    {
      "cell_type": "code",
      "source": [
        ""
      ],
      "metadata": {
        "id": "_1bF8lGQxeS0"
      },
      "execution_count": null,
      "outputs": []
    }
  ]
}