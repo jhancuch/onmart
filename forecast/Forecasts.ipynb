{
 "cells": [
  {
   "cell_type": "markdown",
   "metadata": {},
   "source": [
    "<div class=\"alert alert-block alert-success\">\n",
    "    \n",
    "    \n",
    "# <center> Project Phase 4 </center>\n",
    "\n",
    "\n",
    "<br>\n",
    "    \n",
    "</div>"
   ]
  },
  {
   "cell_type": "markdown",
   "metadata": {},
   "source": [
    "\n",
    "<div class=\"alert alert-info\">\n",
    "\n",
    "## <center> Requirements </center>\n",
    "\n",
    "\n",
    "</div>\n"
   ]
  },
  {
   "cell_type": "markdown",
   "metadata": {},
   "source": [
    "<div class=\"alert alert-warning\">\n",
    "1.\tCreate Customer-Friends-Product-Reviews graph database for OnMart\n",
    "\n",
    "<br><br>\n",
    "    \n",
    "    \n",
    "**Use PurchasesLog Dataset**\n",
    "    \n",
    "<br><br>\n",
    "    \n",
    "\n",
    "</div>"
   ]
  },
  {
   "cell_type": "markdown",
   "metadata": {},
   "source": [
    "// delete existing graph\n",
    "\n",
    "match (n) detach delete n;\n",
    "\n",
    "\n",
    "// verify you have no nodes/relationships in your graph\n",
    "\n",
    "match (n) return n;\n",
    "\n",
    "\n",
    "// Create the customer nodes\n",
    "\n",
    "LOAD CSV WITH HEADERS FROM 'file:///Sample_Orders_Log_1000_Transactions.csv' AS row\n",
    "MERGE (c:Customer {customerID: row.customerID, lastName: row.lastName, firstName: row.firstName})\n",
    "\n",
    "\n",
    "// UNWIND multiple values for FRIENDS of the customer\n",
    "// And build FRIEND_WITH relationship\n",
    "\n",
    "LOAD CSV WITH HEADERS FROM 'file:///Sample_Orders_Log_1000_Transactions.csv' AS row\n",
    "MATCH (c:Customer {customerID: row.customerID})\n",
    "WITH c, row\n",
    "UNWIND split(row.friends, ';') AS friend\n",
    "MATCH (f:Customer {customerID: friend})\n",
    "MERGE (c)-[:FRIEND_WITH]->(f)\n",
    "\n",
    "\n",
    "// Create the Review Nodes\n",
    "\n",
    "LOAD CSV WITH HEADERS FROM 'file:///Sample_Orders_Log_1000_Transactions.csv' AS row\n",
    "WITH row\n",
    "WHERE NOT row.reviewID IS NULL\n",
    "MERGE (r:Review {reviewID: row.reviewID, rating: row.rating})\n",
    "\n",
    "\n",
    "// Create the WROTE_REVIEW relationship\n",
    "\n",
    "LOAD CSV WITH HEADERS FROM 'file:///Sample_Orders_Log_1000_Transactions.csv' AS row\n",
    "WITH row\n",
    "WHERE NOT row.reviewID IS NULL\n",
    "MATCH (c:Customer {customerID: row.customerID})\n",
    "MATCH (r:Review {reviewID: row.reviewID})\n",
    "MERGE (c)-[:WROTE_REVIEW]->(r)\n",
    "\n",
    "\n",
    "// Create the Category nodes\n",
    "\n",
    "LOAD CSV WITH HEADERS FROM 'file:///Sample_Orders_Log_1000_Transactions.csv' AS row\n",
    "MERGE (cat:Category {category: row.category})\n",
    "\n",
    "\n",
    "// Create the Product nodes\n",
    "\n",
    "LOAD CSV WITH HEADERS FROM 'file:///Sample_Orders_Log_1000_Transactions.csv' AS row\n",
    "MERGE (p:Product {productID: row.productID, productName: row.productName})\n",
    "\n",
    "\n",
    "// Create the IN_CATEGORY relationship\n",
    "\n",
    "LOAD CSV WITH HEADERS FROM 'file:///Sample_Orders_Log_1000_Transactions.csv' AS row\n",
    "WITH row\n",
    "MATCH (p:Product {productID: row.productID})\n",
    "MATCH (cat:Category {category: row.category})\n",
    "MERGE (p)-[:IN_CATEGORY]->(cat)\n",
    "\n",
    "\n",
    "// Create the REVIEWS relationship\n",
    "\n",
    "LOAD CSV WITH HEADERS FROM 'file:///Sample_Orders_Log_1000_Transactions.csv' AS row\n",
    "WITH row\n",
    "WHERE NOT row.reviewID IS NULL\n",
    "MATCH (r:Review {reviewID: row.reviewID})\n",
    "MATCH (p:Product {productID: row.productID})\n",
    "MERGE (r)-[:REVIEWS]->(p)\n"
   ]
  },
  {
   "cell_type": "markdown",
   "metadata": {},
   "source": [
    "<div class=\"alert alert-warning\">\n",
    "2.\tUse Google PageRank, and the graph database that you created above for customer reviews/ratings to find influential reviewers\n",
    "    \n",
    "<br><br>\n",
    "    \n",
    "    \n",
    "**Use PurchasesLog Dataset**\n",
    "    \n",
    "<br><br>\n",
    "    \n",
    "    \n",
    "    \n",
    "</div>"
   ]
  },
  {
   "cell_type": "code",
   "execution_count": null,
   "metadata": {},
   "outputs": [],
   "source": []
  },
  {
   "cell_type": "markdown",
   "metadata": {},
   "source": [
    "<div class=\"alert alert-warning\">\n",
    "3.\tUse Betweenness Centrality and PageRank algorithms to find which OnMart superstore super-connected and influential reviewers  who can be used  to identify products from the Furniture department that it could use in a cross-promotion with the newly introduced Samsung TV  in the Electronics department\n",
    "    \n",
    "    \n",
    "<br><br>\n",
    "    \n",
    "    \n",
    "**Use PurchasesLog Dataset**\n",
    "    \n",
    "<br><br>\n",
    "    \n",
    "    \n",
    "    \n",
    "</div>"
   ]
  },
  {
   "cell_type": "code",
   "execution_count": null,
   "metadata": {},
   "outputs": [],
   "source": []
  },
  {
   "cell_type": "markdown",
   "metadata": {},
   "source": [
    "<div class=\"alert alert-warning\">\n",
    "4.\tThe day of the week that has the maximum number of purchases made \n",
    "</div>"
   ]
  },
  {
   "cell_type": "code",
   "execution_count": null,
   "metadata": {},
   "outputs": [],
   "source": []
  },
  {
   "cell_type": "markdown",
   "metadata": {},
   "source": [
    "<div class=\"alert alert-warning\">\n",
    "5.\tThe month of the year that has the highest sales revenue\n",
    "</div>"
   ]
  },
  {
   "cell_type": "code",
   "execution_count": null,
   "metadata": {},
   "outputs": [],
   "source": []
  },
  {
   "cell_type": "markdown",
   "metadata": {},
   "source": [
    "<div class=\"alert alert-warning\">\n",
    "6.\tThe weekly sales revenue forecast per zip-code\n",
    "</div>"
   ]
  },
  {
   "cell_type": "code",
   "execution_count": null,
   "metadata": {},
   "outputs": [],
   "source": []
  },
  {
   "cell_type": "markdown",
   "metadata": {},
   "source": [
    "<div class=\"alert alert-warning\">\n",
    "7.\tThe daily number of purchases forecast per distribution center\n",
    "\n",
    "</div>"
   ]
  },
  {
   "cell_type": "code",
   "execution_count": null,
   "metadata": {},
   "outputs": [],
   "source": []
  },
  {
   "cell_type": "markdown",
   "metadata": {},
   "source": [
    "<div class=\"alert alert-warning\">\n",
    "8.\tThe weekly number of product returns forecast per warehouse\n",
    "    \n",
    "</div>"
   ]
  },
  {
   "cell_type": "code",
   "execution_count": null,
   "metadata": {},
   "outputs": [],
   "source": []
  },
  {
   "cell_type": "markdown",
   "metadata": {},
   "source": [
    "<div class=\"alert alert-warning\">\n",
    "9.\tWhether the number of delayed deliveries per zip-code positively correlated to the number of returned purchases/products.    \n",
    "</div>"
   ]
  },
  {
   "cell_type": "code",
   "execution_count": null,
   "metadata": {},
   "outputs": [],
   "source": []
  },
  {
   "cell_type": "markdown",
   "metadata": {},
   "source": [
    "<div class=\"alert alert-warning\">\n",
    "10.\tThe busiest zip code (counting both deliveries and purchase returns)\n",
    "</div>"
   ]
  },
  {
   "cell_type": "code",
   "execution_count": null,
   "metadata": {},
   "outputs": [],
   "source": []
  },
  {
   "cell_type": "markdown",
   "metadata": {},
   "source": [
    "<div class=\"alert alert-warning\">\n",
    "11.\tThe most selling product in every zip-code\n",
    "</div>"
   ]
  },
  {
   "cell_type": "code",
   "execution_count": null,
   "metadata": {},
   "outputs": [],
   "source": []
  },
  {
   "cell_type": "markdown",
   "metadata": {},
   "source": [
    "<div class=\"alert alert-warning\">\n",
    "12.\tAnalyze whether the sales of the Electronics department  and  the Clothing department have similar seasonal patterns\n",
    "</div>"
   ]
  },
  {
   "cell_type": "code",
   "execution_count": null,
   "metadata": {},
   "outputs": [],
   "source": []
  },
  {
   "cell_type": "markdown",
   "metadata": {},
   "source": [
    "<div class=\"alert alert-warning\">\n",
    "13.\tProduct purchases seasonality through the year; for example, Back-to-School, Christmas, Superbowl, Weather, etc.\n",
    "</div>"
   ]
  },
  {
   "cell_type": "code",
   "execution_count": null,
   "metadata": {},
   "outputs": [],
   "source": []
  },
  {
   "cell_type": "markdown",
   "metadata": {},
   "source": [
    "<div class=\"alert alert-warning\">\n",
    "14.\tBuild time series analysis model for product X (specify product)  in zip-code Y (specify zip code) to forecast daily sales revenue\n",
    "</div>"
   ]
  },
  {
   "cell_type": "code",
   "execution_count": null,
   "metadata": {},
   "outputs": [],
   "source": []
  }
 ],
 "metadata": {
  "kernelspec": {
   "display_name": "Python 3 (ipykernel)",
   "language": "python",
   "name": "python3"
  },
  "language_info": {
   "codemirror_mode": {
    "name": "ipython",
    "version": 3
   },
   "file_extension": ".py",
   "mimetype": "text/x-python",
   "name": "python",
   "nbconvert_exporter": "python",
   "pygments_lexer": "ipython3",
   "version": "3.9.9"
  }
 },
 "nbformat": 4,
 "nbformat_minor": 4
}
